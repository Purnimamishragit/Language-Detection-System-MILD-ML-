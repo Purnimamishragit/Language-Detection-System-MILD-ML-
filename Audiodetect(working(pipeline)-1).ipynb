{
 "cells": [
  {
   "cell_type": "code",
   "execution_count": 91,
   "id": "cd7a0bf9-1f68-408d-ba52-420c37a1496a",
   "metadata": {},
   "outputs": [],
   "source": [
    "#Mr Perfect Model(odia,hindi,english)\n",
    "import numpy as np\n",
    "import pandas as pd\n",
    "from sklearn.feature_extraction.text import TfidfVectorizer\n",
    "from sklearn.model_selection import train_test_split\n",
    "from sklearn.naive_bayes import MultinomialNB\n",
    "from sklearn.linear_model import LogisticRegression\n",
    "from sklearn.svm import SVC\n",
    "from sklearn.metrics import accuracy_score\n",
    "import speech_recognition as sr\n",
    "from enum import Enum\n",
    "from flask import Flask, request, jsonify, render_template\n"
   ]
  },
  {
   "cell_type": "code",
   "execution_count": 92,
   "id": "88b3fecf-4a78-48c5-8324-86a9f9e2d28e",
   "metadata": {},
   "outputs": [
    {
     "data": {
      "text/html": [
       "<div>\n",
       "<style scoped>\n",
       "    .dataframe tbody tr th:only-of-type {\n",
       "        vertical-align: middle;\n",
       "    }\n",
       "\n",
       "    .dataframe tbody tr th {\n",
       "        vertical-align: top;\n",
       "    }\n",
       "\n",
       "    .dataframe thead th {\n",
       "        text-align: right;\n",
       "    }\n",
       "</style>\n",
       "<table border=\"1\" class=\"dataframe\">\n",
       "  <thead>\n",
       "    <tr style=\"text-align: right;\">\n",
       "      <th></th>\n",
       "      <th>Text</th>\n",
       "      <th>Language</th>\n",
       "    </tr>\n",
       "  </thead>\n",
       "  <tbody>\n",
       "    <tr>\n",
       "      <th>0</th>\n",
       "      <td>an artificial market using personal vouchers ...</td>\n",
       "      <td>English</td>\n",
       "    </tr>\n",
       "    <tr>\n",
       "      <th>1</th>\n",
       "      <td>Ek krutrim bajar jaah? vyaktigata bh???ra upay...</td>\n",
       "      <td>Odia</td>\n",
       "    </tr>\n",
       "    <tr>\n",
       "      <th>2</th>\n",
       "      <td>Ek krtrimik bazar jo vyakti gat vauchers ka up...</td>\n",
       "      <td>Hindi</td>\n",
       "    </tr>\n",
       "    <tr>\n",
       "      <th>3</th>\n",
       "      <td>Oka krutrima maarketu, idi vyaktigata vocharlu...</td>\n",
       "      <td>Telugu</td>\n",
       "    </tr>\n",
       "    <tr>\n",
       "      <th>4</th>\n",
       "      <td>Oru seyyarkai sandhai, idhu thanippatta vaucha...</td>\n",
       "      <td>Tamil</td>\n",
       "    </tr>\n",
       "    <tr>\n",
       "      <th>...</th>\n",
       "      <td>...</td>\n",
       "      <td>...</td>\n",
       "    </tr>\n",
       "    <tr>\n",
       "      <th>109</th>\n",
       "      <td>a capable rough-hewn leading man his toothy gr...</td>\n",
       "      <td>English</td>\n",
       "    </tr>\n",
       "    <tr>\n",
       "      <th>110</th>\n",
       "      <td>Ek saksham, kathin drishti wala neta purush, t...</td>\n",
       "      <td>Bengoli</td>\n",
       "    </tr>\n",
       "    <tr>\n",
       "      <th>111</th>\n",
       "      <td>Oru thiramaiana, kadumaiyana paarvai konda mun...</td>\n",
       "      <td>Tamil</td>\n",
       "    </tr>\n",
       "    <tr>\n",
       "      <th>112</th>\n",
       "      <td>Oka sakshamaina, kathina drishti to unna pramu...</td>\n",
       "      <td>Telugu</td>\n",
       "    </tr>\n",
       "    <tr>\n",
       "      <th>113</th>\n",
       "      <td>Ek yogya, kathin-drishti waala neta purush, us...</td>\n",
       "      <td>Hindi</td>\n",
       "    </tr>\n",
       "  </tbody>\n",
       "</table>\n",
       "<p>114 rows × 2 columns</p>\n",
       "</div>"
      ],
      "text/plain": [
       "                                                  Text Language\n",
       "0     an artificial market using personal vouchers ...  English\n",
       "1    Ek krutrim bajar jaah? vyaktigata bh???ra upay...     Odia\n",
       "2    Ek krtrimik bazar jo vyakti gat vauchers ka up...    Hindi\n",
       "3    Oka krutrima maarketu, idi vyaktigata vocharlu...   Telugu\n",
       "4    Oru seyyarkai sandhai, idhu thanippatta vaucha...    Tamil\n",
       "..                                                 ...      ...\n",
       "109  a capable rough-hewn leading man his toothy gr...  English\n",
       "110  Ek saksham, kathin drishti wala neta purush, t...  Bengoli\n",
       "111  Oru thiramaiana, kadumaiyana paarvai konda mun...    Tamil\n",
       "112  Oka sakshamaina, kathina drishti to unna pramu...   Telugu\n",
       "113  Ek yogya, kathin-drishti waala neta purush, us...    Hindi\n",
       "\n",
       "[114 rows x 2 columns]"
      ]
     },
     "execution_count": 92,
     "metadata": {},
     "output_type": "execute_result"
    }
   ],
   "source": [
    "data = pd.read_csv(\"Book.csv\", encoding='iso-8859-1')\n",
    "data"
   ]
  },
  {
   "cell_type": "code",
   "execution_count": 93,
   "id": "0cbb498a-2a16-4b61-9e74-a88495afb83d",
   "metadata": {},
   "outputs": [
    {
     "name": "stdout",
     "output_type": "stream",
     "text": [
      "                                                Text Language\n",
      "0   an artificial market using personal vouchers ...  English\n",
      "1  Ek krutrim bajar jaah? vyaktigata bh???ra upay...     Odia\n",
      "2  Ek krtrimik bazar jo vyakti gat vauchers ka up...    Hindi\n",
      "3  Oka krutrima maarketu, idi vyaktigata vocharlu...   Telugu\n",
      "4  Oru seyyarkai sandhai, idhu thanippatta vaucha...    Tamil\n",
      "Text        0\n",
      "Language    0\n",
      "dtype: int64\n",
      "Language\n",
      "English    19\n",
      "Odia       19\n",
      "Hindi      19\n",
      "Telugu     19\n",
      "Tamil      19\n",
      "Bengoli    19\n",
      "Name: count, dtype: int64\n",
      "Text        object\n",
      "Language    object\n",
      "dtype: object\n"
     ]
    }
   ],
   "source": [
    "print(data.head())\n",
    "print(data.isnull().sum())\n",
    "print(data['Language'].value_counts())\n",
    "print(data.dtypes)\n"
   ]
  },
  {
   "cell_type": "code",
   "execution_count": 94,
   "id": "b55e3aa3-b707-44bf-b045-3c30057ffeb4",
   "metadata": {},
   "outputs": [],
   "source": [
    "x = np.array(data['Text'])\n",
    "y = np.array(data['Language'])"
   ]
  },
  {
   "cell_type": "code",
   "execution_count": 95,
   "id": "f423ef9e-460c-41c5-b51d-532822681ac7",
   "metadata": {},
   "outputs": [
    {
     "name": "stdout",
     "output_type": "stream",
     "text": [
      "Features (Text): [' an artificial market using personal vouchers which ensures freedom of choice but avoids the adverse effects of real markets although some have called this system \"a form of money based on the labour theory of value\" it is not a money model since vouchers cannot be used as a general medium of exchange and store of wealth'\n",
      " 'Ek krutrim bajar jaah? vyaktigata bh???ra upay?ga karuchi, jaha ki svatantrat?ra abhipr??a rakhichhi kintu vastabika baj?ra ra h?ni??l pratibh?b?m?n? rahe. Y?h?ra kichhi l?k man? karuthib? ku \"m?n??a mulya dh?ra?? upare adharita dhana\" bh?b? jaayachhi, kintu ?ha dhana m??y?r?p? upay?g? hy?na n?hi, k?ra?a bh???ra sam?nika madhyam?n? s?marthya ra dhar?n? nahi.'\n",
      " 'Ek krtrimik bazar jo vyakti gat vauchers ka upyog karta hai, jo svatantrata ke chayan ki suvidha deta hai lekin vastavik bazaar ke nuksan se bachata hai. Yadi kuch log is vyavastha ko \"kaam ke m?lya siddhant par ?dh?rit ek r?p?ya\" keh rahe hain, to yah ek r?p?ya model nahi hai kyonki vauchers ko kisi bhi samanya madhyam ke roop mein vyavahar nahi kiya ja sakta aur na hi yeh dhan ka sanchay ban sakta hai.'\n",
      " 'Oka krutrima maarketu, idi vyaktigata vocharlu nu upayogistundi swedhichchha ni andistundi kani nijamaina maarketlu yokka pratikool prabhavalu nundi thappistundi. Kontamandi ee vyavasthanu \"shrama siddhantam aadharinchi roopai\" ani pilustunnaru, kani idi danamodalu kaadu endukante vocharlu saadharana maarpidi maadhyama mariyu sampada nilvuka upayoginchalenu.'\n",
      " 'Oru seyyarkai sandhai, idhu thanippatta vaucharchalai upayogiththudan therndhu suthanthiraththai vazhangudhal aanaal unmaiyaana sandhaigalil vaazhdhal koodiya prabhavangalai kaividum. Silar indha vazhimaiyai \"panaththudan muththirva aadharitththil\" endru solli irundhaalum, idhu panam modhal alla, aenendre vaucharchalai podhuvaana parimattru saadhanam aanaalum selvam thilvadhaga upayogappadum.'\n",
      " 'Ekti krutrim bajaar ja bibhagik bhaucharer madhyame svatantrabhabe pochondo korar sujog dey, kintu bastabik bajarer kshatikar prabhaber theke roksha kore. Jodi keu keu ei byabasthake \"shrom mullo tatther upor bhittikore ek artho\" hisebe ullekh kore thaken, tahole eta ek artho model noy, karon bhauchergulo samanno len-dener madhyom ebong sampodder sanchoyer jonno bebohar kora jay na.'\n",
      " ' democratic planning which involves a feedback process between workplace assemblies demotic assemblies and the confederal assembly and'\n",
      " 'Janatantrika yojana, jehi madhyama re karyasthala sabha, janata sabha, au samyukt sabha madhyare pratyabedana prakriya upasthita karuchhi.'\n",
      " 'Janatantrik yojana, jo karyasthal sabhaon, janata sabhaon, aur sangh sabha ke beech pratyabedan prakriya ko shamil karti hai.'\n",
      " 'Janatantrika yojana, idhi karyasthala sabhalu, janata sabhalu, mariyu samyukta sabhalu madhya pratyabedana prakriya nu upasthapistundi.'\n",
      " 'Janatantrika yojana, idhu kaaryasthala sabhaigal, janata sabhaigal, matrum samyukta sabhaigalin idaiyil pratyabedhana prakriyai thagavalvudhal aagi irundhaal.'\n",
      " 'Janatantrik yojana, jeita karyasthal sabha, janata sabha, ebong sangho sabhar modhye pratyabedan prokriya ke sammilito kore.'\n",
      " ' entire web was loosely based on the premise of citationâ\\x80\\x94after all what is a link but a citation? if he could devise a method to count and qualify each backlink on the web as page puts it \"the web would become a more valuable place\"'\n",
      " 'Samasta web, citation ra prabandha upare sadharana bhabe aadharit thila\\x97antata? ki link ki, yeh ek citation heba? Jodi se eka paddhati gathana kariparibe je web re pratyeka backlink ko ganana kariba au yatharthakarana kariba, jaise Page kahichhi \"web ti adhika mulyabana sthana heba.\"'\n",
      " 'Pura web citation ke siddhant par dheere dheere adharit tha\\x97ant mein, link kya hai agar citation nahi? Agar woh ek tareeka bana sakta hai jisme har backlink ko web par ginne aur qualify karne ka, jaise ki Page ne kaha, \"web ek adhik mulyavanan sthal ban jayega.\"'\n",
      " 'Purna web, citation ane siddhant pai dheere dheere adharincina pradhana\\x97antato, link ante enti, idhi oka citation kaadu? Atha avagahana paddhatini okuvaru unnattaga, web lo pratyeka backlink ni ganakalu chesi, samarthinchi, page cheppina prakaraminche \"web adhi goppaga mulyavantamaina sthalam avutundi.\"'\n",
      " 'Muththumani web, citation enna unarvugalil serndha oru adharamum thavira\\x97karuthu, oru link enna, idhu oru citation a? Avan oru muraiyai uruvakkumendru, webil oru oru backlink-ai kaniniyum, samarththiyinriyum parimiththikkum, page solli irundhaal, \"web oru adhiga muththirva sthalamaayirundhaal.\"'\n",
      " 'Purno web, citation er siddhant er opor dhire dhire adharito chhilo\\x97shes porjonto, link ki, eta ki ekta citation na? Jodi se ekta poddhoti toyri korte pare, jate pratyek backlink ke web e ganana kora jay ebong yoggota kara jay, jemon Page bolechhe, \"web ta aro mulloyukto sthan hobe.\"'\n",
      " 'i do think the internetâ\\x80\\x99s under much greater attack than it has been in the past governments are now afraid of the internet because of the middle east stuff and so theyâ\\x80\\x99re a little more willing to listen to what i see as a lot of commercial interests that just want to make money by restricting peopleâ\\x80\\x99s freedoms but theyâ\\x80\\x99ve also seen a tremendous user reaction like the backlash against sopa i think that governments fight usersâ\\x80\\x99 freedoms at their own peril'\n",
      " 'Mu bhala bhabe bhabi paruchi je internet purbaru jehethi adhi hamla hei thila sehi upare adhika hamla hela. Sarkara mane eba internet ku lekhana bhaya paibu, madhyaresta samasya samparkare, au sehi pakhare kichhi beshi sunibara ichha achhi, jehi ki mu dekhi paruchi ekadhika byabasaika ruchi je mane kebala lokara svatantrata ku simita kari, dhan kamaiba chahanti. Kintu sehi manehin ekati atirikt user pratikriya dekhi chanti jaise SOPA samarthana re, mu bhabi paruchi je sarkara mane user ra svatantrata ku ladhiba ta\\x92ra nijara aparadhika bhaabe.'\n",
      " 'Main sochta hoon ki internet ko pichle samay ke mukable zyada hamla ho raha hai. Sarkare ab internet se dar rahi hain, khaas kar Middle East ke mamle mein, aur isliye woh thoda adhik sunne ko tayar hain jo main dekh raha hoon, jo kai vyavasaik hit hain jo bas logon ki swatantrata ko simit karke paise kamaana chahte hain. Lekin unhone ek zabardast user pratikriya bhi dekhi hai, jaise SOPA ke khilaf backlash. Main sochta hoon ki sarkare users ki swatantrata ke khilaf ladti hain, apne hi nuksan par.'\n",
      " 'Nenu anukuntunna internet, mundu padaga kaadu, ippudaithe chala pedda praharanni parigrahistondi. Sarkaralu ippudaithe internet ni korukovadam lo bhayapadutunnayi, madhyaresta samasyalu karanam ga, mariyu vallaki chala veeramga cheppalani ichchukuntunnaru. Nenu chusthunnadhi, chala commercial interestlu unnayi, valla vallalani svatantrata ni thaggisthe, perugutthunna sampaththini pondadam kosam. Kani vaallu chala bhari user pratikriyani kuda choosarandi, SOPA tho samanvayamga. Nenu anukuntunna, sarkaralu users\\x92 svatantrata medha jeevithamlo kothaga nilavadi, avaru paniki padutunnaru.'\n",
      " \"Nan ninaikkirEn, internet inriyum thaRkum kOlam padaikkappattu irundha varaikkum, ippodhu inriyum adhika thaRkum prahAram padaikkapaduththapadudhal. Aarasu thErntha varaiyil internet kku bhayappattu, madhyaresta karuththugaludan, avarkal ivarudhaan konjam adhisaya kAlvi seyyanriyum virundhugalai izhandhiduththik koottuththuvOm. Nan parththirundhaal, pirappu iyakkinriya aadhikAnu illai, they just want to restrict people's freedoms to make money. Aana aavargal, ungal koodiya perumaiyum, SOPA patchiya piravi perumaiyum mudhalvinri parththirundhaal. Nan ninaikkirEn, Aarasuvar, user sivikaththayinriyyum kootuviththana aase karuvudhal seyyum.\"\n",
      " \"Ami mone kori je internet er upore pichhoner tulonai beshi akramon hochhe. Sarkar gulo ekhono internet theke bhoy pabe, Midhil Ist er kichu samasya samparkito, ar sei jonyo tara kichu beshi shunbar ichhe ache, jeta ami dekhchi, anek byabashik ruchi ache, jara manushder svatantrata simito kore, shudhu paise kamate chai. Kintu tara ek prachur user pratikriyao dekheche, jemon SOPA'r viruddhe backlash. Ami mone kori je sarkar gulo user der svatantrata er biruddhe juddho kore, tara nijer biporite.\"\n",
      " ' marked her debut on polish national radio renown polish actress kalina jÄ\\x99drusik sang agnieszkas lyrics to a hit song by franciszka leszczyÅ\\x84ska called \"my first ball\" mÃ³j pierwszy bal one year later at the first national festival of polish song in opole in  agnieszka achieved a major success winning the main prize and six other prizes for her lyrics â\\x80\\x9epiosenka o okularnikachâ\\x80\\x9c music by jarosÅ\\x82aw abram as well as â\\x80\\x9ebiaÅ\\x82e maÅ\\x82Å¼eÅ\\x84stwoâ\\x80\\x9c â\\x80\\x9eczerwony kapturekâ\\x80\\x9c \"kochankowie z ulicy kamiennejâ\\x80\\x9c â\\x80\\x9esolo na kontrabasieâ\\x80\\x9c and â\\x80\\x9eulice wielkich miastâ\\x80\\x9c'\n",
      " 'Polish rashtriya radio re apana debut mark karichhanti prasiddha Polish abhinetri Kalina J?drusik, jaha Agnieszka ra geeta lyrics \"Mój Pierwszy Bal\" (My First Ball) gaileni Franciszka Leszczy?ska dwara. Eka bachha parre, Polish gaan ra pratham rashtriya mahotsaba Opole re, Agnieszka eka boro safalata arjan karichhanti, pramukh puraskara au chha anya puraskara jeunthi ta?kara geeta \"Piosenka o Okularnikach\" (Music by Jaros?aw Abram) saha, au \"Bia?e Ma??e?stwo\", \"Czerwony Kapturek\", \"Kochankowie z ulicy Kamiennej\", \"Solo na Kontrabasie\" au \"Ulice Wielkich Miast\" geetara jita.'\n",
      " 'Polish rashtriya radio par apna debut darj karne wali prasiddh Polish abhinetri Kalina J?drusik ne Agnieszka ke geet ke lyrics ko gaya tha, jo \"Mój Pierwszy Bal\" (Mera Pehla Ball) hai, jo Franciszka Leszczy?ska ka hit geet tha. Ek saal baad, Polish gaano ka pratham rashtriya mahotsav Opole mein, Agnieszka ne ek mahan safalta haasil ki thi, mukhya puraskar jeeta tha aur chhavi anya puraskaron ko bhi apne geet \"Piosenka o Okularnikach\" (Music by Jaros?aw Abram) ke liye, aur \"Bia?e Ma??e?stwo\", \"Czerwony Kapturek\", \"Kochankowie z ulicy Kamiennej\", \"Solo na Kontrabasie\" aur \"Ulice Wielkich Miast\" ke liye bhi jeete the.'\n",
      " 'Polish rashtriya radio pai tana debut ni mark chesina pramukha Polish abhinetri Kalina J?drusik, Agnieszka ra geetaku lyrics \"Mój Pierwszy Bal\" (My First Ball) gaayinchi, Franciszka Leszczy?ska dwara raachina pramukh geet ni. Oka samvatsara taruvata, Polish paatalala rashtriya mahotsava Opole lo, Agnieszka oka mukhya safalatani sampadinchindi, pramukha puraskaram mariyu arda puraskari gaayala \"Piosenka o Okularnikach\" (Music by Jaros?aw Abram) tho, mariyu \"Bia?e Ma??e?stwo\", \"Czerwony Kapturek\", \"Kochankowie z ulicy Kamiennej\", \"Solo na Kontrabasie\" mariyu \"Ulice Wielkich Miast\" geetallo.'\n",
      " 'Polish rashtriya radio-il tan debut-ai mark seyyum prasiddha Polish abhinayakara Kalina J?drusik, Agnieszka ra geetaiyin lyrics \"Mój Pierwszy Bal\" (Enna Mudhala Bal) solli, Franciszka Leszczy?ska thandha hit geetaiyai paadinen. Oru varusham kaaranam, Polish paatalgalin rashtriya mahotsav Opole-il, Agnieszka oru periya vazhiyinri vijayaththai koodal, mukhya puraskaramum aaththirundha puraskaraigalum kidaiththathu \"Piosenka o Okularnikach\" (Jaros?aw Abram - music), \"Bia?e Ma??e?stwo\", \"Czerwony Kapturek\", \"Kochankowie z ulicy Kamiennej\", \"Solo na Kontrabasie\" matrum \"Ulice Wielkich Miast\" paatalgalai.'\n",
      " 'Polish rashtriya radio te tar debut chinhochhilo prakhyato Polish abhinetri Kalina J?drusik, je Agnieszka ra geet-er lyrics \"Mój Pierwszy Bal\" (Amar Prothom Ball) gayechhilen Franciszka Leszczy?ska-dwara. Ek bochhor por, Polish gaaner pratham rashtriya mahotsab Opole te, Agnieszka ek boro safalata arjan korechhilen, pramukh puraskar ebong chhoya onno puraskar jegechhilen tar geet \"Piosenka o Okularnikach\" (Music by Jaros?aw Abram) er jonno, ebong \"Bia?e Ma??e?stwo\", \"Czerwony Kapturek\", \"Kochankowie z ulicy Kamiennej\", \"Solo na Kontrabasie\" o \"Ulice Wielkich Miast\" geet-er jonno o.'\n",
      " ' saw the formation of the estonian cricket league which consists of four tallinn-based teams who compete in a round-robin format players who are members of the estonian cricket league are eligible to be selected for the national side  and  saw a victory for kalev cc captained by andres burget'\n",
      " 'Estonian Cricket League ra srishti dekhi, jeita chhati Tallinn-based team ra sammilita, je mane round-robin format re pratiyogita karanti. Estonian Cricket League ra sadasya mane national team re chayan heba yogya, au Kalev CC jeunthi Andres Burget dwara kaptan karithile, se purbaku jeeta dekhi.'\n",
      " 'Estonian Cricket League ka gathan dekha, jo ki chaar Tallinn-based teamon se milkar bana hai, jo round-robin format mein pratidwandi karte hain. Estonian Cricket League ke sadasya ko rashtriya team ke liye chuna jaane ka hak milta hai, aur Kalev CC ne, jiska netritva Andres Burget ne kiya tha, jeet haasil ki.'\n",
      " 'Estonian Cricket League ni gatha chudagalu, idi nalugu Tallinn-based teams ni kalipina, vallu round-robin format lo prathi yogita chesevaru. Estonian Cricket League yoka sadasyulu rashtriya team ki padhavi pondhadaniki yogyulaga vidhimpu chesukovachu, mariyu Kalev CC, Andres Burget kaptan ga unnappudu jeet kachchindi.'\n",
      " 'Estonian Cricket League-in uruv?kkattai p?rth??, it???ku Tallinn-a?ippa?aiyil??a a?ika?ai ko??atu, avai oru su??u-ropin va?ivamaippil p???iya?uki?a?a. Estonian Cricket League-in uruppi?arka? t?ciya a?i t?rvu seyya?patuvata?k??a takutiyai va?a?ki?a?a?, m?lum Kalev CC, Andres Burget e?pavar in talaimaiyil ve??i pe??atu.'\n",
      " 'Estonian Cricket League-er gathon dekhchilam, ja chhoto Tallinn-bhittik daler sommilito, jara akta round-robin format-e protidwondi kore. Estonian Cricket League-er sadasya ra rashtriyo daler jonne nirbachito howar joggo, ebong Kalev CC, ja Andres Burget dwara adhinayok toiri chhilo, ekti bijoy arjan korechilo.'\n",
      " 'saw the publication of the first ever book about sutcliffe and atomage - dressing for pleasure a history of atomage is published by fuel and edited by jonny trunk'\n",
      " \"Sutcliffe o Atomage upare pratham book ra prakashana dekhi - 'Dressing for Pleasure: A History of Atomage' Fuel dwara prakashita heichi o Jonny Trunk dwara sampadita heichi.\"\n",
      " \"Sutcliffe aur Atomage par pehli baar kitab ka prakashan dekha - 'Dressing for Pleasure: A History of Atomage' Fuel dwara prakashit ki gayi aur Jonny Trunk dwara sampadit ki gayi.\"\n",
      " \"Sutcliffe mariyu Atomage pai modati pustakam prakashinchadam chudagalu - 'Dressing for Pleasure: A History of Atomage' Fuel dwara prakashinchabadindi mariyu Jonny Trunk dwara sampadinchabadindi.\"\n",
      " 'Sutcliffe matrum Atomage pathi padaiththirundha mudhal puthumai puthiya pirappu - \"Dressing for Pleasure\"'\n",
      " 'Sutcliffe ebong Atomage niye prothom kothin boi prakashita hoyechhe - \"Dressing for Pleasure\". Atomage-er itihas Fuel diye prakashito hoyechhe ebong Jonny Trunk edite korechhen.'\n",
      " 'a killing closing hours of the bill passing session of the legislature woman suffrage and anti-pool room bills go down to death together the minneapolis tribune april  '\n",
      " '\"Legislature ra bill passing session ra antima ghanta re eka hatya: mahila suffrage au anti-pool room kanun gote sathire mrityu padhuchi.\" - The Minneapolis Tribune, April'\n",
      " '\"Vidhan Sabha ke bill pass karne ke session ke antim ghante mein ek hatya: mahila suffrage aur anti-pool room kanun ek saath maut ko apnate hain.\" - The Minneapolis Tribune, April'\n",
      " '\"Vidhan Sabha bill passing session lo katti nera ghantalu: mahila suffrage mariyu anti-pool room kanulu oka thoti mrityu ki sammandhinchi poyayi.\" - The Minneapolis Tribune, April'\n",
      " '\"Vidhan Sabha bill passing session-in irudhik kaalamgalil oru kolaiyaa: pe? v?kkurimaiyum anti-pool room sa??a?ga?um o???ka mara?atti?ku celluki??a?a.\" - The Minneapolis Tribune, April'\n",
      " '\"Vidhan Sabha bill pass korar session-er sesh ghontar modhye ekta hatya: mohila suffrage o anti-pool room kanun gulo ekshathe mrityu ke gache.\" - The Minneapolis Tribune, April'\n",
      " 'always on time is the second single by american rapper ja rule from his third studio album pain is love the song would feature american rb singer ashanti and was produced by irv gotti the song was written by  aurelius ja rule and irving lorenzo the song became a worldwide hit and was ashantis first hot  number one single and ja rules second'\n",
      " '\"Always on time\" hochi American rapper Ja Rule ra duiti singala jo tinka tritiya studio album Pain is Love ru asichi. Ei ganare American R&B gaayika Ashanti thiba au Irv Gotti dwara utpadita heithila. Ei gana Aurelius, Ja Rule, au Irving Lorenzo dwara likhita heithila. Ei gana prithibi bharare hit heithila au ei Ashanti ra prathama hot number one singala au Ja Rule ra duiti.'\n",
      " '\"Always on time\" ek doosra single hai American rapper Ja Rule ka, jo unke teesre studio album Pain is Love se hai. Is gaane mein American R&B singer Ashanti ko feature kiya gaya hai aur isse Irv Gotti ne produce kiya hai. Gaana Aurelius, Ja Rule aur Irving Lorenzo dwara likha gaya tha. Yeh gaana duniya bhar mein hit ho gaya aur yeh Ashanti ka pehla hot number one single tha aur Ja Rule ka doosra.'\n",
      " '\"Always on time\" ane idi American rapper Ja Rule yukka rendu singala, vaati tritiya studio album Pain is Love nundi vachindi. Ee paatalo American R&B singer Ashanti pratinidhivvulainadi mariyu Irv Gotti vallu production cheyyaru. Ee paatalo Aurelius, Ja Rule mariyu Irving Lorenzo rayina paata. Ee paata prapancha vyapakanga hit ayyindi, idi Ashanti yokka modati hot number one single mariyu Ja Rule yokka rendu.'\n",
      " '\"Always on time\" ennathu American rapper Ja Rule-aiyin irandavathu single aakum, idhu avarun moondravathu studio album Pain is Love endra albumthil irundhu varugirathu. Indha paadalil American R&B paadagi Ashanti velippadanaavai matrum Irv Gotti ithai thayariththaar. Indha paadhalai Aurelius, Ja Rule matrum Irving Lorenzo ezhudhiadhagaum. Indha paadal ulagamengum oru hit aagivittadhu matrum Ashanti-kku mudhal hot number one single aakum, Ja Rule-kku irandavathu single aakum amaindhadhu.\"'\n",
      " '\"Always on time\" American rapper Ja Rule-er ditiyo single, ja tar tritiyo studio album Pain is Love theke esheche. Ei ganay American R&B singer Ashanti-ke feature kora hoyechilo ebong Irv Gotti-er dwara utpadito hoyechilo. Ei ganata Aurelius, Ja Rule ebong Irving Lorenzo dwara lekha hoyechilo. Ei ganata prithibhir bhitore hit hoye gechhe ebong Ashanti-r prothom hot number one single ebong Ja Rule-er ditiyo single hoyeche.'\n",
      " 'dream warriors is a song written by dokken members george lynch  jeff pilson for the movie a nightmare on elm street  dream warriors the song was released as a single in  charting at number  on the hot mainstream rock tracks chart and was also released on dokkens fourth album back for the attack'\n",
      " '\"Dream Warriors\" eka gana, jaaku Dokken sadasyara George Lynch, Jeff Pilson likhithanti, A Nightmare on Elm Street chhabi pakhare. Ei gana eka single bhabare release heithila, charting at number on the hot mainstream rock tracks chart au Dokken ra choutha album Back for the Attack re bhi release heithila.'\n",
      " '\"Dream Warriors\" ek gaana hai, jo Dokken ke sadasya George Lynch aur Jeff Pilson dwara likha gaya tha, aur A Nightmare on Elm Street film ke liye tha. Yeh gaana ek single ke roop mein release kiya gaya tha, charting at number on the hot mainstream rock tracks chart, aur yeh Dokken ke chauthe album Back for the Attack mein bhi release kiya gaya tha.'\n",
      " '\"Dream Warriors\" ane paatalu, Dokken sadasyalu George Lynch, Jeff Pilson dvara A Nightmare on Elm Street cinema kosam raayabadindi. Ee paatalu oka single ga release avvindi, charting at number on the hot mainstream rock tracks chart, mariyu ee paatalu Dokken yokka naalugu album Back for the Attack lo kuda release avvindi.'\n",
      " '\"Dream Warriors\" enbathu Dokken sadasigal George Lynch, Jeff Pilson thavira azhiththiyal A Nightmare on Elm Street sinnamum kaana padal. Ithu oru single-aaga release aagavittathu, charting at number on the hot mainstream rock tracks chart, matrum ithu Dokken-in naalva album Back for the Attack-ilum release aagavittathu.'\n",
      " '\"Dream Warriors\" ek gaana, jaake Dokken sadasya George Lynch, Jeff Pilson lekhechhilen, A Nightmare on Elm Street chhobi er jonno. Ei gaana ek single hisebe release kora hoyechhilo, charting at number on the hot mainstream rock tracks chart, ebong ei gaana Dokken-er chotho album Back for the Attack-e o release kora hoyechhilo.'\n",
      " 'every scholar that spells a word wrong or omits a silent letter or figure shall step in the rear of the class and there stand until the class shall have spelled through then those that have spelled right are to move up in a solid body and those who are in the rear to move down and take their places at the foot'\n",
      " 'Prati vidyarthi jeunthi eka shabda bhul likhanti athaba eka mukhya akshara ba ankha chhadi deuchi, se class ra pichhe jiba ebong sekhane thiba, jab tak class puruna shabda likhi na padhila, ta pare jeunthi shudhha likhanti, ta mananku upara jiba au jeunthi pichhe thiba, ta talare thiba au tanka sthan grahana kariba.'\n",
      " 'Har vidyarthi jo koi shabd galat likhta hai ya koi chupaa hua akshar ya ank chhod deta hai, usse kaksha ke peeche jana hoga aur wahan tab tak khada rehna hoga jab tak kaksha poora shabd na likh le, phir jo log sahi likhte hain unhe ek sath upar jana hoga aur jo log peeche hain unhe neeche jana hoga aur apne sthan par jana hoga.'\n",
      " 'Prati vidyarthi okka padam tappu ga raasina lekapothe oka mudra leka aksharni kuda pettakunda poyina, aame class thoda poyyali mariyu akkada unchukovali, yavariki class antha padalu raasi poortiga vadduvochu, appudu sariya ga raasi pettina vaallu mundu ki velli, pichhe unna vaallu thirigi thana sthanaalu tisukovali.'\n",
      " 'Prathi varalaru oru vaakkiyil thappu ezhudhum alavillai, illa oru paavada izhandhal, avar kaikariyil vaazhum maadhiriyil poyyidum, aanaal varalaru thavira oru thagaval paavandhal anbu kooththidum. Avargal ella thalavadhai thiruthi, vidhayapadugal tondri attharum varalaru aedho meendu thandi thava ezhudhalil sandhanaththa seyyamal kaanaum.'\n",
      " 'Prati shikkharthi je kono shobdo bhul likhe ba kono mukhyo akshar ba ankha chhadi deye, take class-er pichone giye thakte hobe ebong sekhane thakte thakbe, jotokkhon na class purno bhabe shobdo likhe nei. Tarpor je shikkharthira thik bhabe likheche, tara ekshathe upore jabe ebong je shikkharthira pichone ache, tara niche jabe ebong tader sthan niye nebe.'\n",
      " 'everybody should design their own home im against architects designing homes how do i know that you want to live in a picture-window colonial? its silly but you might want to who am i to say?'\n",
      " 'Sabe nijara ghara design kariba uchita. Mu architects ku ghara design karibaku viruddha. Mu kemiti jani ki apana picture-window colonial re basiba chahanti? Eha moorkhata, kintu apana chahanti bhi paribe. Mu kehi kahiba keun?'\n",
      " 'Sabko apne ghar ka design khud karna chahiye. Main architects se ghar design karwate huye virudh hoon. Main kaise jaanu ki aap ek picture-window colonial mein rehna chahte hain? Yeh bekar hai, lekin aap chahte bhi ho sakte hain. Main kaun hoon kehne waala?'\n",
      " 'Prathi okkati tana ghara design chesukovali. Nenu architects dwara ghara design chesevaadni virudhdham ga unnanu. Nenu ela telusuko galanu miru picture-window colonial lo vellevaani? Idhi vesham, kani miru kavalochhu. Nenu em cheppalenu?'\n",
      " '\"Ellaarum thangal veettu vadivamaippai thaangalae seyyavendum. Naan ma`amariyagalaal veedugal vadivamaikkapaduthuvathu virudhamaaga irukkindraen. Naan eppadi arindhukolvaen neenga oru picture-window colonial veedil vaazha virumbugirirgala? Adhu mudhaal paanbu dhaan, aanaal neenga virumbakkoodum. Naan sollum oruvan yaara?\"'\n",
      " '\"Pratyekeroi tader nijsho baadir dizain kora uchit. Ami architectder baari dizain korano\\'r bipokkhe. Ami kibhabe janbo je apni picture-window colonial-e thakte chan? Eta bokami, kintu apni chaiteo paren. Ami ke bolar?\"'\n",
      " 'inclusive democracy entry in routledge encyclopedia of international political economy ed by rj barry jones routledge  pp â\\x80\\x93 retrieved  january '\n",
      " '\"Inclusive Democracy\" ra prastaba Routledge Encyclopedia of International Political Economy re R.J. Barry Jones dwara sampadita Routledge pp \\x96 January re prapt.'\n",
      " '\"Inclusive Democracy\" ka prastav Routledge Encyclopedia of International Political Economy mein R.J. Barry Jones dwara sampadit Routledge pp \\x96 January mein prapt.'\n",
      " '\"Inclusive Democracy\" anedi Routledge Encyclopedia of International Political Economy lo R.J. Barry Jones dwara sampadistunna Routledge pp \\x96 January lo labhinchadam.'\n",
      " '\"Inclusive Democracy\" ennum virundhugalai Routledge Encyclopedia of International Political Economy il R.J. Barry Jones tharum Routledge pp \\x96 Januaryil kidaiththathu.'\n",
      " '\"Inclusive Democracy\" prastabti Routledge Encyclopedia of International Political Economy te R.J. Barry Jones er sampadana Routledge pp \\x96 January e prapt.'\n",
      " 'storms in this house the glass house are horrendous but thrilling glass shatters danger is one of the greatest things to use in architecture'\n",
      " 'Ei ghare, glass ghare, toofan gote bhayankar kintu romanchakar, glass bhangare, jokhima chhadiye achhi je arhitecturere upayoga kariba pai sabutharu maha upakara.'\n",
      " 'Is ghar mein, glass ghar mein, toofan bhayankar hai par romanchak bhi hai, sheesha toot jata hai, khatra architecture mein istemal karne ke liye sabse bada cheezon mein se ek hai.'\n",
      " 'Ee intlo, glass house-lo, tufanulu bhayankaranga kani ullaasanga unnayi, glass virugutundi, pramadham architecture-lo upayinchadaniki atyuttamaina amshala-lo okati.'\n",
      " 'Indha veettil, kannaadi veettil, puyalgal bhayankaramaaga irundhaalum aruvaruppaagaum thrilling aakaum irukkindrana, kannaadi udaindhu pogindradhu, aapathu kattidakkalai vadivamaippil upayampadappadudharkana migavum mukkiyamaana ondraaga ulladhu.'\n",
      " 'Ei baarete, glass house-e, jhor-gulo bhoyonkor kintu romanchokor, glass bheenge jaay, bipod architecture-e byabohar er jonno shobcheye boro jinish-gulir ekti.'\n",
      " 'to publish great newspapers that are successful and enduring, to create a quality work environment that encourages employees to grow professionally while respecting personal welfare, to have a positive impact on our communities and make them better places to live'\n",
      " 'Saphala o dirghakaleeka samachar patra prakashita kariba, guniya karya parivesha srishti kariba je karyakartaa manankoo pesha-gotika roope bruddhi kariba ku preraana deichi, tanka byaktigata bhalaasi manare sammaan kariba, amara samudaya upare sakaratmaka prabhab rakhiba o tanka jeebana sthala manankoo uttama kariba.'\n",
      " 'Safal aur sthir mahaan akhbaar prakashit karna, ek guni kaam ka mahaul banane ke liye jo karmchariyon ko peshewar roop se viksit hone ke liye prerit kare, vyaktigat kalyan ka sammaan karte hue, hamare samudaayon par sakaratmak prabhaav daalne ke liye aur unhein rehne ke liye behtar sthaan banane ke liye'\n",
      " 'Vetriyadayum matrum neerndakaala nilaiyaana sirandha naalitazhlkalai pirachurikka, oozhiyaarkaLai tozhilmuRa reethiyaaga vaLarvakka oothuVikkum, thanippa??a naLanku ma?uppu a?ikkum oru tharam??a pa?ic??alai uruv?kka, e?ka? samudh?ya?ka?il n??ma?ai t?kkaththai uruv?kki avatrai v??a udavikku?ippi?um i?a?ka??ka m???a.'\n",
      " 'Vijayavantamaina mariyu deerghakaalika vaarthaa patralanu prachurinchadaaniki, udyogulanu vruthi paranga perugudhala koraku protsaheechne, vyaktigata sankshemaanni gauravinchne naaNyamaina pani vaathavarananni srishtinchadaaniki, mana samaajallo saanukoola prabhaavanni kaligi vaatini nivaSinchadaaniki manchi pradesaaluga maarchadaaniki.'\n",
      " 'Saphalyamandita ebong sthayi mahat sangbadpatra prakash kara, akta gunagata kajer poribesh toiri kara ja kormider pesagoto bhabe briddhi pete utsahito kare, byaktigato kallyan er proti samm?n dekhie, amader samprad?yagulir upar itibachok prabhab felte ebong tader jibonjaponer jonno bhalo sthan toiri korte.'\n",
      " 'we still have a monumental architecture to me the drive for monumentality is as inbred as the desire for food and sex regardless of how we denigrate it'\n",
      " 'Hamare paas ab bhi ek bhavya vaastukala hai, mere liye bhavyata ki or prerana utni hi swabhavik hai jaise khane aur seks ki ichha, chahe ham isse kitna bhi ninda karein.'\n",
      " 'Naam innum oru mukkiyamaana kattidakkalai konduLLoom, enakku idhu oru punidhamana kattidakkalai kuritta eerpudhal unavu matrum paaluraiyil viruppam ponguRa pirappilirundhu uLLadhagaVae uLLadhu, naam adhai evvalavu nindhanaik karidhalum.'\n",
      " 'Amader ekhono ekti brihattam sthapatya royeche, amar kache bhavyatar proti aakarshon khaadya ebam jounotar ichhar motoi swabhavik, amra jatoi etike abogyaan karuk na keno.'\n",
      " 'Ame ebe madhya gurutwapurna architecture rakhiichu, mote manushyataa ra prati aakrishta heba khaadya ebam seks ichha pari ehaara utsaaha heba, sethipaain ame ehaku kete heba abahelana karithile madhya.'\n",
      " 'Manam ippatiki oka goppa architecture nu kaligi unnamu, naaku gamaninchadani ki, mahatthvanni korukune prerana aaharam mariyu seks ishtamulaage puttuka nundi vasthundi, manam danini entha dusparichaya cheyagaligina.'\n",
      " 'West Coast reggae group Stick Figure ne apna pehla music video Fire on the Horizon track ka exclusive premiere kiya hai.'\n",
      " 'west coast reggae group stick figure debuts first-ever music video for fire on the horizon track exclusive premiere billboard november  '\n",
      " 'West Coast reggae group Stick Figure tana modati music video Fire on the Horizon track ki exclusive premiere chesindi.'\n",
      " 'West Coast reggae group Stick Figure thangalin mudhal music video Fire on the Horizon track ku exclusive premiere aaga thaviraikkiraar.'\n",
      " 'West Coast reggae group Stick Figure tader prothom music video Fire on the Horizon track er exclusive premiere koreche.'\n",
      " 'West Coast reggae group Stick Figure prathama barsha ra music video Fire on the Horizon track ra exclusive premiere karichhi.'\n",
      " 'Rashyaavin Eldar Eldarov matrum Irelandin Peter Queallyudan SBG Irelandil irundhu indha kaardukana pora thittamida padathththappaduthu, aanaal Queally Brave-udan oppandham adaiyavillai matrum Eldar irudhiyil SBG-ukku serndha Kevin Koldobsky-udan modhinar.'\n",
      " 'Rashiyar Eldar Eldarv ebong Irelander Peter Queally, jara SBG Ireland theke, ei carder jonno loraiyer porikolpona chhilo, kintu Queally Brave-er sathe chukti korte parenni ebong Eldar sheshe SBG theke Kevin Koldobsky-r sathe lorai korlen.'\n",
      " 'Russia ra Eldar Eldarov o Ireland ra Peter Queally, je SBG Ireland ru, madhya ehi card pai yojana hoithila, kintu Queally Brave sahita samjhauta kariparile nahin, ebam Eldar seshe SBG ru Kevin Koldobsky samna kari thile.'\n",
      " 'a bout between russias eldar eldarov and irelands peter queally from sbg ireland was in the works for this card but queally didnt reach an agreement with brave and eldar ended up facing kevin koldobsky also from sbg'\n",
      " 'Russia ke Eldar Eldarov aur Ireland ke Peter Queally jo SBG Ireland se hain, ke beech is card ke liye bout ki yojna thi, lekin Queally Brave ke saath samjhota nahi kar paaye aur Eldar ne ant mein SBG ke Kevin Koldobsky ka samna kiya.'\n",
      " 'Rashya yokka Eldar Eldarov mariyu Ireland yokka Peter Queally, SBG Ireland nundi ee card ku bout jarige aalochana undindi, kaani Queally Brave to oppandam chesaledu mariyu Eldar chivarga SBG nundi Kevin Koldobsky to edurukoraru.'\n",
      " \"Eka sakshamata-purna, kathina-drishta neta purusha, ta?k?ra da??a has? o lamha r?pa t??k? aneka pramukha o sah?yaka bh?mik?re adbhuta kathina mard? ban?'ichi western o action chitrar?p??a, ja?i The Magnificent Seven, Hell Is for Heroes, The Great Escape, Charade, Our Man Flint, In Like Flint, Duck You Sucker, o Cross of Iron. Coburn Pixar chitr?bali Monsters Inc. re Henry Waternoose ra swara diichi.\"\n",
      " 'a capable rough-hewn leading man his toothy grin and lanky physique made him a perfect tough guy in numerous leading and supporting roles in westerns and action films such as the magnificent seven hell is for heroes the great escape charade our man flint in like flint duck you sucker and cross of iron coburn provided the voice of henry waternoose in the pixar film monsters inc'\n",
      " 'Ek saksham, kathin drishti wala neta purush, tar daant nikale hashi o lanky sharir tarake anek pramukh o sahayak bhumikai pradarshit korechhe, western o action chhatragulo te, jemon The Magnificent Seven, Hell Is for Heroes, The Great Escape, Charade, Our Man Flint, In Like Flint, Duck You Sucker, o Cross of Iron. Coburn Pixar chhatrabali Monsters Inc. te Henry Waternoose-er swar diyechhilen.'\n",
      " 'Oru thiramaiana, kadumaiyana paarvai konda munnani napar, avan parkkalai kaattiya punnagaiyum, neelamana udalum avanaipala munnani matrum aadharavana vedangalil sariyana kadumaiyana manidharaga uruvaakkidudhu, merkatthiya matrum aakshan thiraipadahalil, The Magnificent Seven, Hell Is for Heroes, The Great Escape, Charade, Our Man Flint, In Like Flint, Duck You Sucker, matrum Cross of Iron pongalvai. Coburn Pixar thiraipadamana Monsters Inc. il Henry Waternoose endra kadhaapathiraththirku kural vazhanginaar.'\n",
      " 'Oka sakshamaina, kathina drishti to unna pramukha purusha, tana daanta hasam mariyu lanky aakaram, tana ni aneka mukhya mariyu sahayaka bhumikalu lo adbhuta kathina manishi ga marchindi, westerns mariyu action chitraalu lanti The Magnificent Seven, Hell Is for Heroes, The Great Escape, Charade, Our Man Flint, In Like Flint, Duck You Sucker, mariyu Cross of Iron lo. Coburn Pixar chitra Monsters Inc. lo Henry Waternoose ku suara ivvaru.'\n",
      " 'Ek yogya, kathin-drishti waala neta purush, uske daant nikale hasne aur lamba sharir usse kai pramukh aur sahayak bhoomikaon mein perfect tough guy banaata hai, jaise ki westerns aur action films mein The Magnificent Seven, Hell Is for Heroes, The Great Escape, Charade, Our Man Flint, In Like Flint, Duck You Sucker, aur Cross of Iron. Coburn ne Pixar ki film Monsters Inc. mein Henry Waternoose ki awaaz di thi.']\n",
      "Labels (Language): ['English' 'Odia' 'Hindi' 'Telugu' 'Tamil' 'Bengoli' 'English' 'Odia'\n",
      " 'Hindi' 'Telugu' 'Tamil' 'Bengoli' 'English' 'Odia' 'Hindi' 'Telugu'\n",
      " 'Tamil' 'Bengoli' 'English' 'Odia' 'Hindi' 'Telugu' 'Tamil' 'Bengoli'\n",
      " 'English' 'Odia' 'Hindi' 'Telugu' 'Tamil' 'Bengoli' 'English' 'Odia'\n",
      " 'Hindi' 'Telugu' 'Tamil' 'Bengoli' 'English' 'Odia' 'Hindi' 'Telugu'\n",
      " 'Tamil' 'Bengoli' 'English' 'Odia' 'Hindi' 'Telugu' 'Tamil' 'Bengoli'\n",
      " 'English' 'Odia' 'Hindi' 'Telugu' 'Tamil' 'Bengoli' 'English' 'Odia'\n",
      " 'Hindi' 'Telugu' 'Tamil' 'Bengoli' 'English' 'Odia' 'Hindi' 'Telugu'\n",
      " 'Tamil' 'Bengoli' 'English' 'Odia' 'Hindi' 'Telugu' 'Tamil' 'Bengoli'\n",
      " 'English' 'Odia' 'Hindi' 'Telugu' 'Tamil' 'Bengoli' 'English' 'Odia'\n",
      " 'Hindi' 'Telugu' 'Tamil' 'Bengoli' 'English' 'Odia' 'Hindi' 'Tamil'\n",
      " 'Telugu' 'Bengoli' 'English' 'Hindi' 'Tamil' 'Bengoli' 'Odia' 'Telugu'\n",
      " 'Hindi' 'English' 'Telugu' 'Tamil' 'Bengoli' 'Odia' 'Tamil' 'Bengoli'\n",
      " 'Odia' 'English' 'Hindi' 'Telugu' 'Odia' 'English' 'Bengoli' 'Tamil'\n",
      " 'Telugu' 'Hindi']\n"
     ]
    }
   ],
   "source": [
    "print(\"Features (Text):\", x)\n",
    "print(\"Labels (Language):\", y)"
   ]
  },
  {
   "cell_type": "code",
   "execution_count": 96,
   "id": "176d6b37-c5b3-4e9b-883c-9f7b3754d8e4",
   "metadata": {},
   "outputs": [],
   "source": [
    "tfidf = TfidfVectorizer()  # Changed here\n",
    "X = tfidf.fit_transform(x)"
   ]
  },
  {
   "cell_type": "code",
   "execution_count": 97,
   "id": "2c3da609-00ff-4aa8-9d26-110672e77960",
   "metadata": {},
   "outputs": [],
   "source": [
    "X_train, X_test, y_train, y_test = train_test_split(X, y, test_size=0.33, random_state=42)"
   ]
  },
  {
   "cell_type": "code",
   "execution_count": 98,
   "id": "cc2702d6-0cf3-47d0-aa65-c3569b4b7951",
   "metadata": {},
   "outputs": [
    {
     "name": "stdout",
     "output_type": "stream",
     "text": [
      "Training Data (Vectorized):   (0, 1237)\t0.12934451363948554\n",
      "  (0, 908)\t0.11896309642796375\n",
      "  (0, 1441)\t0.12934451363948554\n",
      "  (0, 26)\t0.12934451363948554\n",
      "  (0, 1443)\t0.12934451363948554\n",
      "  (0, 935)\t0.12934451363948554\n",
      "  (0, 1988)\t0.12934451363948554\n",
      "  (0, 1969)\t0.12934451363948554\n",
      "  (0, 1302)\t0.12934451363948554\n",
      "  (0, 1238)\t0.12934451363948554\n",
      "  (0, 808)\t0.12934451363948554\n",
      "  (0, 1960)\t0.12934451363948554\n",
      "  (0, 1230)\t0.12934451363948554\n",
      "  (0, 567)\t0.12934451363948554\n",
      "  (0, 1789)\t0.12934451363948554\n",
      "  (0, 1124)\t0.12934451363948554\n",
      "  (0, 568)\t0.12934451363948554\n",
      "  (0, 30)\t0.12934451363948554\n",
      "  (0, 1760)\t0.12934451363948554\n",
      "  (0, 676)\t0.2117681150504463\n",
      "  (0, 1128)\t0.10121594648463693\n",
      "  (0, 1048)\t0.11896309642796375\n",
      "  (0, 1090)\t0.10121594648463693\n",
      "  (0, 933)\t0.10121594648463693\n",
      "  (0, 835)\t0.10121594648463693\n",
      "  :\t:\n",
      "  (75, 896)\t0.137634865340183\n",
      "  (75, 1869)\t0.18302124725931002\n",
      "  (75, 709)\t0.18302124725931002\n",
      "  (75, 41)\t0.18302124725931002\n",
      "  (75, 1218)\t0.18302124725931002\n",
      "  (75, 1865)\t0.36604249451862003\n",
      "  (75, 273)\t0.137634865340183\n",
      "  (75, 1461)\t0.137634865340183\n",
      "  (75, 1252)\t0.18302124725931002\n",
      "  (75, 1831)\t0.18302124725931002\n",
      "  (75, 1349)\t0.18302124725931002\n",
      "  (75, 809)\t0.18302124725931002\n",
      "  (75, 704)\t0.18302124725931002\n",
      "  (75, 1629)\t0.275269730680366\n",
      "  (75, 1462)\t0.18302124725931002\n",
      "  (75, 1311)\t0.137634865340183\n",
      "  (75, 705)\t0.18302124725931002\n",
      "  (75, 468)\t0.14321959429823639\n",
      "  (75, 467)\t0.275269730680366\n",
      "  (75, 1480)\t0.18302124725931002\n",
      "  (75, 715)\t0.16833164139270324\n",
      "  (75, 1641)\t0.16833164139270324\n",
      "  (75, 1077)\t0.24942575918106574\n",
      "  (75, 686)\t0.14982492668499972\n",
      "  (75, 19)\t0.14982492668499972\n"
     ]
    }
   ],
   "source": [
    "print(\"Training Data (Vectorized):\", X_train)"
   ]
  },
  {
   "cell_type": "code",
   "execution_count": null,
   "id": "3ee5e742-d3fd-40d9-b3f6-474527c7a1ea",
   "metadata": {},
   "outputs": [],
   "source": [
    "# model = MultinomialNB()\n",
    "# model.fit(X_train, y_train)\n",
    "models = {\n",
    "    \"Naive Bayes\": MultinomialNB(),\n",
    "    #\"Logistic Regression\": LogisticRegression(max_iter=1000),\n",
    "    #\"Random Forest\": RandomForestClassifier(n_estimators=100),\n",
    "    #\"SVM\": SVC(kernel='linear')\n",
    "}\n"
   ]
  },
  {
   "cell_type": "code",
   "execution_count": 100,
   "id": "788e58ff-5beb-457c-ac4b-88e2f5dc22d3",
   "metadata": {},
   "outputs": [
    {
     "name": "stdout",
     "output_type": "stream",
     "text": [
      "Training Naive Bayes...\n",
      "Naive Bayes Accuracy: 0.58\n"
     ]
    }
   ],
   "source": [
    "model_accuracies = {}\n",
    "\n",
    "for model_name, model in models.items():\n",
    "    print(f\"Training {model_name}...\")\n",
    "    model.fit(X_train, y_train)\n",
    "    \n",
    "    # Predictions and accuracy calculation\n",
    "    y_pred = model.predict(X_test)\n",
    "    accuracy = accuracy_score(y_test, y_pred)\n",
    "    model_accuracies[model_name] = accuracy\n",
    "    print(f\"{model_name} Accuracy: {accuracy:.2f}\")\n"
   ]
  },
  {
   "cell_type": "code",
   "execution_count": 101,
   "id": "67c57422-f60f-44e3-9496-c9ce07d4a291",
   "metadata": {},
   "outputs": [
    {
     "name": "stdout",
     "output_type": "stream",
     "text": [
      "\n",
      "Best Model: Naive Bayes with Accuracy: 0.58\n"
     ]
    }
   ],
   "source": [
    "# Select the best model\n",
    "best_model_name = max(model_accuracies, key=model_accuracies.get)\n",
    "best_model = models[best_model_name]\n",
    "best_accuracy = model_accuracies[best_model_name]\n",
    "print(f\"\\nBest Model: {best_model_name} with Accuracy: {best_accuracy:.2f}\")"
   ]
  },
  {
   "cell_type": "code",
   "execution_count": 102,
   "id": "d920c500-68d5-4bf2-8968-ffcc26d019a1",
   "metadata": {},
   "outputs": [],
   "source": [
    "class Language(Enum):\n",
    "    ENGLISH = 'en-US'\n",
    "    FRENCH = 'fr-FR'\n",
    "    GERMAN = 'de-DE'\n",
    "    ITALIAN = 'it-IT'\n",
    "    SPANISH = 'es-ES'\n",
    "    PORTUGUESE = 'pt-BR'\n",
    "    KOREAN = \"ko-KR\"\n",
    "    CHINESE_SIMPLIFIED = \"zh-CN\"\n",
    "    CHINESE_TRADITIONAL = \"zh-TW\"\n",
    "    JAPANESE = \"ja-JP\"\n",
    "    RUSSIAN = \"ru-RU\"\n",
    "    POLISH = \"pl-PL\"\n",
    "    UKRAINIAN = \"uk-UA\"\n",
    "    BULGARIAN = \"bg-BG\"\n",
    "    BENGALI = \"bn-BD\"\n",
    "    TURKISH = \"tr-TR\"\n",
    "    ARABIC = \"ar-SA\"\n",
    "    INDONESIAN = \"id-ID\"\n",
    "    THAI = \"th-TH\"\n",
    "    VIETNAMESE = \"vi-VN\"\n",
    "    MALAY = \"ms-MY\"\n",
    "    HINDI = \"hi-IN\"\n",
    "    PUNJABI = \"pa-IN\"\n",
    "    TELUGU = \"te-IN\"\n",
    "    GUJARATI = \"gu-IN\"\n",
    "    ORIYA = \"or-IN\"\n",
    "    MARATHI = \"mr-IN\"\n",
    "    SINDHI = \"sd-IN\"\n",
    "    TAMIL = \"ta-IN\"\n",
    "    KANNADA = \"kn-IN\"\n",
    "    MALAYALAM = \"ml-IN\"\n",
    "    ASSAMESE = \"as-IN\"\n",
    "    ODIA = \"or-IN\"\n",
    "    SANSKRIT = \"sa-IN\"\n"
   ]
  },
  {
   "cell_type": "code",
   "execution_count": 103,
   "id": "b70927de-78cc-4eae-9574-feaffd3dc7b1",
   "metadata": {},
   "outputs": [],
   "source": [
    "class SpeechToText:\n",
    "    @staticmethod\n",
    "    def speech_to_text(device_index=1, language=Language.ENGLISH):\n",
    "        r = sr.Recognizer()\n",
    "        with sr.Microphone(device_index=device_index) as source:\n",
    "            print(\"Recording...\")\n",
    "            audio = r.listen(source)\n",
    "            print(\"Recording Complete...\")\n",
    "\n",
    "            try:\n",
    "                # Transcribe audio to text\n",
    "                text = r.recognize_google(audio, language=language.value)\n",
    "                # print(f\"Transcribed Text ({language.name}):\", text)\n",
    "                return text\n",
    "            except sr.UnknownValueError:\n",
    "                print(\"Could not understand audio\")\n",
    "                return None\n",
    "            except sr.RequestError as e:\n",
    "                print(\"Request error from Google Speech Recognition service; {0}\".format(e))\n",
    "                return None"
   ]
  },
  {
   "cell_type": "code",
   "execution_count": 104,
   "id": "4303ed2e-21e8-4e6e-8c6a-c82475c53f51",
   "metadata": {},
   "outputs": [],
   "source": [
    "app = Flask(__name__)"
   ]
  },
  {
   "cell_type": "code",
   "execution_count": 105,
   "id": "1bd74438-0b05-4f1e-8123-0da0f0d8370f",
   "metadata": {},
   "outputs": [],
   "source": [
    "@app.route('/')\n",
    "def home():\n",
    "    return render_template('index.html')\n"
   ]
  },
  {
   "cell_type": "code",
   "execution_count": 106,
   "id": "05361cc0-c989-46bd-8cd3-6d62780c3a5c",
   "metadata": {},
   "outputs": [],
   "source": [
    "@app.route('/predict_text', methods=['POST'])\n",
    "def predict_text():\n",
    "    data = request.json\n",
    "    text = data.get('text')\n",
    "    if text:\n",
    "        transformed_data = tfidf.transform([text]).toarray()\n",
    "        predicted_language = best_model.predict(transformed_data)[0]\n",
    "        return jsonify({'language': predicted_language})\n",
    "    return jsonify({'error': 'No text provided'}), 400"
   ]
  },
  {
   "cell_type": "code",
   "execution_count": 107,
   "id": "871d080a-8f9a-4c75-8b6f-7d8696a297e1",
   "metadata": {},
   "outputs": [],
   "source": [
    "@app.route('/predict_audio', methods=['POST'])\n",
    "def predict_audio():\n",
    "    transcribed_text = SpeechToText.speech_to_text()\n",
    "    if transcribed_text:\n",
    "        transformed_data = tfidf.transform([transcribed_text]).toarray()\n",
    "        predicted_language = best_model.predict(transformed_data)[0]\n",
    "        return jsonify({'language': predicted_language})\n",
    "    return jsonify({'error': 'Audio not understood'}), 400\n"
   ]
  },
  {
   "cell_type": "code",
   "execution_count": 108,
   "id": "2e6c4b3f-2c9a-4ce5-9597-d4ffd83fde8a",
   "metadata": {},
   "outputs": [],
   "source": [
    "# Standalone functionality\n",
    "def predict_language_from_text(input_text):\n",
    "    data = tfidf.transform([input_text]).toarray()\n",
    "    predicted_language = best_model.predict(data)[0]\n",
    "    print(f\"Predicted Language: {predicted_language}\")"
   ]
  },
  {
   "cell_type": "code",
   "execution_count": 109,
   "id": "a1e277c9-6df5-43bd-898f-3f5df7cfc49d",
   "metadata": {},
   "outputs": [],
   "source": [
    "def predict_language_from_audio(device_index=1, language=Language.ENGLISH):\n",
    "    transcribed_text = SpeechToText.speech_to_text(device_index, language)\n",
    "    if transcribed_text:\n",
    "        data = tfidf.transform([transcribed_text]).toarray()\n",
    "        predicted_language = best_model.predict(data)[0]\n",
    "        print(f\"Predicted Language: {predicted_language}\")"
   ]
  },
  {
   "cell_type": "code",
   "execution_count": 110,
   "id": "f52d3439-6820-4cde-9462-17abde90ac3d",
   "metadata": {},
   "outputs": [
    {
     "name": "stdout",
     "output_type": "stream",
     "text": [
      "Choose Input Type:\n",
      "1. Text Input\n",
      "2. Audio Input\n"
     ]
    },
    {
     "name": "stdout",
     "output_type": "stream",
     "text": [
      "Enter your choice (1/2):  2\n"
     ]
    },
    {
     "name": "stdout",
     "output_type": "stream",
     "text": [
      "Recording...\n",
      "Recording Complete...\n",
      "Predicted Language: Hindi\n"
     ]
    }
   ],
   "source": [
    "if __name__ == \"__main__\":\n",
    "    print(\"Choose Input Type:\")\n",
    "    print(\"1. Text Input\")\n",
    "    print(\"2. Audio Input\")\n",
    "    choice = input(\"Enter your choice (1/2): \").strip()\n",
    "    \n",
    "    if choice == '1':\n",
    "        input_text = input(\"Enter the text: \").strip()\n",
    "        predict_language_from_text(input_text)  # Assuming this function is defined\n",
    "    elif choice == '2':\n",
    "        device_index = 1  # Update this based on your microphone setup\n",
    "        language = Language.ENGLISH  # Assuming Language is defined and has ENGLISH as an attribute\n",
    "        predict_language_from_audio(device_index, language)  # Assuming this function is defined\n",
    "    else:\n",
    "        print(\"Invalid choice.\")\n"
   ]
  },
  {
   "cell_type": "code",
   "execution_count": null,
   "id": "09151ba8-0d65-4b83-bd90-8a99699ebb90",
   "metadata": {},
   "outputs": [],
   "source": []
  }
 ],
 "metadata": {
  "kernelspec": {
   "display_name": "Python 3 (ipykernel)",
   "language": "python",
   "name": "python3"
  },
  "language_info": {
   "codemirror_mode": {
    "name": "ipython",
    "version": 3
   },
   "file_extension": ".py",
   "mimetype": "text/x-python",
   "name": "python",
   "nbconvert_exporter": "python",
   "pygments_lexer": "ipython3",
   "version": "3.12.7"
  }
 },
 "nbformat": 4,
 "nbformat_minor": 5
}
