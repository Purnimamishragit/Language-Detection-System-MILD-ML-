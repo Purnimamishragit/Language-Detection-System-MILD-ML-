{
 "cells": [
  {
   "cell_type": "code",
   "execution_count": 1,
   "id": "48b6cf08-8e14-48c3-af78-4cd2ab0eeb71",
   "metadata": {},
   "outputs": [],
   "source": [
    "import numpy as np\n",
    "import pandas as pd\n",
    "from sklearn.feature_extraction.text import CountVectorizer\n",
    "from sklearn.model_selection import train_test_split\n",
    "from sklearn.svm import SVC\n",
    "import speech_recognition as sr\n",
    "from enum import Enum"
   ]
  },
  {
   "cell_type": "code",
   "execution_count": 2,
   "id": "0ee34f4c-d026-481e-a9bb-4f827548d71a",
   "metadata": {},
   "outputs": [],
   "source": [
    "class Language(Enum):\n",
    "    ENGLISH = 'en-US'\n",
    "    FRENCH = 'fr-FR'\n",
    "    GERMAN = 'de-DE'\n",
    "    ITALIAN = 'it-IT'\n",
    "    SPANISH = 'es-ES'\n",
    "    PORTUGUESE = 'pt-BR'\n",
    "    KOREAN = \"ko-KR\"\n",
    "    CHINESE_SIMPLIFIED = \"zh-CN\"\n",
    "    CHINESE_TRADITIONAL = \"zh-TW\"\n",
    "    JAPANESE = \"ja-JP\"\n",
    "    RUSSIAN = \"ru-RU\"\n",
    "    POLISH = \"pl-PL\"\n",
    "    UKRAINIAN = \"uk-UA\"\n",
    "    BULGARIAN = \"bg-BG\"\n",
    "    BENGALI = \"bn-BD\"\n",
    "    TURKISH = \"tr-TR\"\n",
    "    ARABIC = \"ar-SA\"\n",
    "    INDONESIAN = \"id-ID\"\n",
    "    THAI = \"th-TH\"\n",
    "    VIETNAMESE = \"vi-VN\"\n",
    "    MALAY = \"ms-MY\"\n",
    "    HINDI = \"hi-IN\"\n",
    "    PUNJABI = \"pa-IN\"\n",
    "    TELUGU = \"te-IN\"\n",
    "    GUJARATI = \"gu-IN\"\n",
    "    ORIYA = \"or-IN\"\n",
    "    MARATHI = \"mr-IN\"\n",
    "    SINDHI = \"sd-IN\"\n",
    "    TAMIL = \"ta-IN\"\n",
    "    KANNADA = \"kn-IN\"\n",
    "    MALAYALAM = \"ml-IN\"\n",
    "    ASSAMESE = \"as-IN\"\n",
    "    ODIA = \"or-IN\"\n",
    "    SANSKRIT = \"sa-IN\""
   ]
  },
  {
   "cell_type": "code",
   "execution_count": 3,
   "id": "eff78d79-798e-4a50-8168-c38757ced32c",
   "metadata": {},
   "outputs": [],
   "source": [
    "# Load the dataset (replace 'nitya.csv' with your actual CSV file)\n",
    "data = pd.read_csv(\"Language Detection.csv\")\n",
    "# encoding='ISO-8859-1'"
   ]
  },
  {
   "cell_type": "code",
   "execution_count": 4,
   "id": "3616c206-b4fc-4c2b-8cc7-856f7722bb9d",
   "metadata": {},
   "outputs": [
    {
     "name": "stdout",
     "output_type": "stream",
     "text": [
      "                                                Text Language\n",
      "0   Nature, in the broadest sense, is the natural...  English\n",
      "1  \"Nature\" can refer to the phenomena of the phy...  English\n",
      "2  The study of nature is a large, if not the onl...  English\n",
      "3  Although humans are part of nature, human acti...  English\n",
      "4  [1] The word nature is borrowed from the Old F...  English\n",
      "Text        0\n",
      "Language    0\n",
      "dtype: int64\n",
      "Language\n",
      "English       1385\n",
      "French        1014\n",
      "Spanish        819\n",
      "Portugeese     739\n",
      "Italian        698\n",
      "Russian        692\n",
      "Sweedish       676\n",
      "Malayalam      594\n",
      "Dutch          546\n",
      "Arabic         536\n",
      "Turkish        474\n",
      "German         470\n",
      "Tamil          469\n",
      "Danish         428\n",
      "Kannada        369\n",
      "Greek          365\n",
      "Hindi           63\n",
      "Name: count, dtype: int64\n",
      "Text        object\n",
      "Language    object\n",
      "dtype: object\n"
     ]
    }
   ],
   "source": [
    "# Display basic information about the dataset\n",
    "print(data.head())\n",
    "print(data.isnull().sum())\n",
    "print(data['Language'].value_counts())\n",
    "print(data.dtypes)"
   ]
  },
  {
   "cell_type": "code",
   "execution_count": 5,
   "id": "75314545-476b-49d0-95b6-b8136df00aaa",
   "metadata": {},
   "outputs": [],
   "source": [
    "# Prepare features (Text) and labels (Language)\n",
    "x = np.array(data['Text'])\n",
    "y = np.array(data['Language'])"
   ]
  },
  {
   "cell_type": "code",
   "execution_count": 6,
   "id": "ec45d17f-eed5-42a6-9c2b-f887362a9f23",
   "metadata": {},
   "outputs": [],
   "source": [
    "cv = CountVectorizer(stop_words='english')  # Stop words removal is optional\n",
    "X = cv.fit_transform(x)"
   ]
  },
  {
   "cell_type": "code",
   "execution_count": 7,
   "id": "ced4475a-4682-413a-8631-d163a9ca1bb8",
   "metadata": {},
   "outputs": [],
   "source": [
    "X_train, X_test, y_train, y_test = train_test_split(X, y, test_size=0.33, random_state=42)\n"
   ]
  },
  {
   "cell_type": "code",
   "execution_count": 8,
   "id": "76fab163-0f79-43d4-bcf8-0aa74821de58",
   "metadata": {},
   "outputs": [],
   "source": [
    "# Define SpeechToText class\n",
    "class SpeechToText:\n",
    "    @staticmethod\n",
    "    def speech_to_text(device_index=1, language=Language.ENGLISH):\n",
    "        r = sr.Recognizer()\n",
    "        \n",
    "        # Use the appropriate microphone device based on device_index\n",
    "        with sr.Microphone(device_index=device_index) as source:\n",
    "            print(\"Recording...\")\n",
    "            audio = r.listen(source)\n",
    "            print(\"Recording Complete...\")\n",
    "\n",
    "            try:\n",
    "                # Transcribe audio to text using Google Speech Recognition\n",
    "                text = r.recognize_google(audio, language=language.value)\n",
    "                print(f\"Transcribed Text ({language.name}):\", text)\n",
    "                return text\n",
    "            except sr.UnknownValueError:\n",
    "                print(\"Could not understand audio\")\n",
    "                return None\n",
    "            except sr.RequestError as e:\n",
    "                print(f\"Request error from Google Speech Recognition service; {e}\")\n",
    "                return None"
   ]
  },
  {
   "cell_type": "code",
   "execution_count": 9,
   "id": "0bbc1ebc-b3bf-4b11-9696-4dacac851f3b",
   "metadata": {},
   "outputs": [
    {
     "data": {
      "text/html": [
       "<style>#sk-container-id-1 {color: black;}#sk-container-id-1 pre{padding: 0;}#sk-container-id-1 div.sk-toggleable {background-color: white;}#sk-container-id-1 label.sk-toggleable__label {cursor: pointer;display: block;width: 100%;margin-bottom: 0;padding: 0.3em;box-sizing: border-box;text-align: center;}#sk-container-id-1 label.sk-toggleable__label-arrow:before {content: \"▸\";float: left;margin-right: 0.25em;color: #696969;}#sk-container-id-1 label.sk-toggleable__label-arrow:hover:before {color: black;}#sk-container-id-1 div.sk-estimator:hover label.sk-toggleable__label-arrow:before {color: black;}#sk-container-id-1 div.sk-toggleable__content {max-height: 0;max-width: 0;overflow: hidden;text-align: left;background-color: #f0f8ff;}#sk-container-id-1 div.sk-toggleable__content pre {margin: 0.2em;color: black;border-radius: 0.25em;background-color: #f0f8ff;}#sk-container-id-1 input.sk-toggleable__control:checked~div.sk-toggleable__content {max-height: 200px;max-width: 100%;overflow: auto;}#sk-container-id-1 input.sk-toggleable__control:checked~label.sk-toggleable__label-arrow:before {content: \"▾\";}#sk-container-id-1 div.sk-estimator input.sk-toggleable__control:checked~label.sk-toggleable__label {background-color: #d4ebff;}#sk-container-id-1 div.sk-label input.sk-toggleable__control:checked~label.sk-toggleable__label {background-color: #d4ebff;}#sk-container-id-1 input.sk-hidden--visually {border: 0;clip: rect(1px 1px 1px 1px);clip: rect(1px, 1px, 1px, 1px);height: 1px;margin: -1px;overflow: hidden;padding: 0;position: absolute;width: 1px;}#sk-container-id-1 div.sk-estimator {font-family: monospace;background-color: #f0f8ff;border: 1px dotted black;border-radius: 0.25em;box-sizing: border-box;margin-bottom: 0.5em;}#sk-container-id-1 div.sk-estimator:hover {background-color: #d4ebff;}#sk-container-id-1 div.sk-parallel-item::after {content: \"\";width: 100%;border-bottom: 1px solid gray;flex-grow: 1;}#sk-container-id-1 div.sk-label:hover label.sk-toggleable__label {background-color: #d4ebff;}#sk-container-id-1 div.sk-serial::before {content: \"\";position: absolute;border-left: 1px solid gray;box-sizing: border-box;top: 0;bottom: 0;left: 50%;z-index: 0;}#sk-container-id-1 div.sk-serial {display: flex;flex-direction: column;align-items: center;background-color: white;padding-right: 0.2em;padding-left: 0.2em;position: relative;}#sk-container-id-1 div.sk-item {position: relative;z-index: 1;}#sk-container-id-1 div.sk-parallel {display: flex;align-items: stretch;justify-content: center;background-color: white;position: relative;}#sk-container-id-1 div.sk-item::before, #sk-container-id-1 div.sk-parallel-item::before {content: \"\";position: absolute;border-left: 1px solid gray;box-sizing: border-box;top: 0;bottom: 0;left: 50%;z-index: -1;}#sk-container-id-1 div.sk-parallel-item {display: flex;flex-direction: column;z-index: 1;position: relative;background-color: white;}#sk-container-id-1 div.sk-parallel-item:first-child::after {align-self: flex-end;width: 50%;}#sk-container-id-1 div.sk-parallel-item:last-child::after {align-self: flex-start;width: 50%;}#sk-container-id-1 div.sk-parallel-item:only-child::after {width: 0;}#sk-container-id-1 div.sk-dashed-wrapped {border: 1px dashed gray;margin: 0 0.4em 0.5em 0.4em;box-sizing: border-box;padding-bottom: 0.4em;background-color: white;}#sk-container-id-1 div.sk-label label {font-family: monospace;font-weight: bold;display: inline-block;line-height: 1.2em;}#sk-container-id-1 div.sk-label-container {text-align: center;}#sk-container-id-1 div.sk-container {/* jupyter's `normalize.less` sets `[hidden] { display: none; }` but bootstrap.min.css set `[hidden] { display: none !important; }` so we also need the `!important` here to be able to override the default hidden behavior on the sphinx rendered scikit-learn.org. See: https://github.com/scikit-learn/scikit-learn/issues/21755 */display: inline-block !important;position: relative;}#sk-container-id-1 div.sk-text-repr-fallback {display: none;}</style><div id=\"sk-container-id-1\" class=\"sk-top-container\"><div class=\"sk-text-repr-fallback\"><pre>SVC(kernel=&#x27;linear&#x27;)</pre><b>In a Jupyter environment, please rerun this cell to show the HTML representation or trust the notebook. <br />On GitHub, the HTML representation is unable to render, please try loading this page with nbviewer.org.</b></div><div class=\"sk-container\" hidden><div class=\"sk-item\"><div class=\"sk-estimator sk-toggleable\"><input class=\"sk-toggleable__control sk-hidden--visually\" id=\"sk-estimator-id-1\" type=\"checkbox\" checked><label for=\"sk-estimator-id-1\" class=\"sk-toggleable__label sk-toggleable__label-arrow\">SVC</label><div class=\"sk-toggleable__content\"><pre>SVC(kernel=&#x27;linear&#x27;)</pre></div></div></div></div></div>"
      ],
      "text/plain": [
       "SVC(kernel='linear')"
      ]
     },
     "execution_count": 9,
     "metadata": {},
     "output_type": "execute_result"
    }
   ],
   "source": [
    "model = SVC(kernel='linear')  # Linear kernel\n",
    "model.fit(X_train, y_train)"
   ]
  },
  {
   "cell_type": "code",
   "execution_count": 10,
   "id": "c0471e1b-6add-4046-a16c-08388e07c6c1",
   "metadata": {},
   "outputs": [
    {
     "name": "stdout",
     "output_type": "stream",
     "text": [
      "Model Accuracy: 0.91\n"
     ]
    }
   ],
   "source": [
    "accuracy = model.score(X_test, y_test)\n",
    "print(f\"Model Accuracy: {accuracy:.2f}\")"
   ]
  },
  {
   "cell_type": "code",
   "execution_count": 11,
   "id": "55e0780e-5a9d-4b01-965b-75953a6af0a0",
   "metadata": {},
   "outputs": [],
   "source": [
    "def predict_language_from_audio(device_index=1, language=Language.ENGLISH):\n",
    "    transcribed_text = SpeechToText.speech_to_text(device_index, language)\n",
    "    \n",
    "    if transcribed_text:\n",
    "        # Vectorize the transcribed text and predict the language\n",
    "        data = cv.transform([transcribed_text]).toarray()\n",
    "        output = model.predict(data)\n",
    "        print(\"Predicted Language:\", output[0])"
   ]
  },
  {
   "cell_type": "code",
   "execution_count": 12,
   "id": "3bc0a7a6-b105-4cc4-9545-0f7791e45b47",
   "metadata": {},
   "outputs": [
    {
     "name": "stdout",
     "output_type": "stream",
     "text": [
      "Recording...\n",
      "Recording Complete...\n",
      "Transcribed Text (ENGLISH): por\n",
      "Predicted Language: Spanish\n"
     ]
    }
   ],
   "source": [
    "if __name__ == \"__main__\":\n",
    "    device_index = 1  # Set device index based on available microphones\n",
    "    language = Language.ENGLISH  # Set the language for speech recognition (e.g., English)\n",
    "    predict_language_from_audio(device_index=device_index, language=language)"
   ]
  },
  {
   "cell_type": "code",
   "execution_count": null,
   "id": "e8cdeb08-3a6d-464b-9fad-51c2b909e669",
   "metadata": {},
   "outputs": [],
   "source": []
  },
  {
   "cell_type": "code",
   "execution_count": null,
   "id": "f46b5f35-c9d6-4cce-9c56-312040437fdf",
   "metadata": {},
   "outputs": [],
   "source": []
  },
  {
   "cell_type": "code",
   "execution_count": null,
   "id": "e7de0aa6-fdb8-492c-bd41-341303020044",
   "metadata": {},
   "outputs": [],
   "source": []
  }
 ],
 "metadata": {
  "kernelspec": {
   "display_name": "Python 3 (ipykernel)",
   "language": "python",
   "name": "python3"
  },
  "language_info": {
   "codemirror_mode": {
    "name": "ipython",
    "version": 3
   },
   "file_extension": ".py",
   "mimetype": "text/x-python",
   "name": "python",
   "nbconvert_exporter": "python",
   "pygments_lexer": "ipython3",
   "version": "3.12.7"
  }
 },
 "nbformat": 4,
 "nbformat_minor": 5
}
