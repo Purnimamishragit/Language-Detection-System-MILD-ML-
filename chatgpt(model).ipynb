{
 "cells": [
  {
   "cell_type": "code",
   "execution_count": 1,
   "id": "3d3426d9-c7df-4daa-a77a-aaf81c60a542",
   "metadata": {},
   "outputs": [
    {
     "ename": "ModuleNotFoundError",
     "evalue": "No module named 'langdetect'",
     "output_type": "error",
     "traceback": [
      "\u001b[1;31m---------------------------------------------------------------------------\u001b[0m",
      "\u001b[1;31mModuleNotFoundError\u001b[0m                       Traceback (most recent call last)",
      "Cell \u001b[1;32mIn[1], line 2\u001b[0m\n\u001b[0;32m      1\u001b[0m \u001b[38;5;28;01mimport\u001b[39;00m \u001b[38;5;21;01mspeech_recognition\u001b[39;00m \u001b[38;5;28;01mas\u001b[39;00m \u001b[38;5;21;01msr\u001b[39;00m\n\u001b[1;32m----> 2\u001b[0m \u001b[38;5;28;01mfrom\u001b[39;00m \u001b[38;5;21;01mlangdetect\u001b[39;00m \u001b[38;5;28;01mimport\u001b[39;00m detect, DetectorFactory\n\u001b[0;32m      4\u001b[0m \u001b[38;5;66;03m# Ensure consistent results with langdetect\u001b[39;00m\n\u001b[0;32m      5\u001b[0m DetectorFactory\u001b[38;5;241m.\u001b[39mseed \u001b[38;5;241m=\u001b[39m \u001b[38;5;241m0\u001b[39m\n",
      "\u001b[1;31mModuleNotFoundError\u001b[0m: No module named 'langdetect'"
     ]
    }
   ],
   "source": [
    "import speech_recognition as sr\n",
    "from langdetect import detect, DetectorFactory\n",
    "\n",
    "# Ensure consistent results with langdetect\n",
    "DetectorFactory.seed = 0\n",
    "\n",
    "def detect_language_from_audio(audio_file):\n",
    "    \"\"\"\n",
    "    Detects the language spoken in an audio file.\n",
    "\n",
    "    Args:\n",
    "        audio_file (str): Path to the audio file.\n",
    "\n",
    "    Returns:\n",
    "        dict: Transcription and detected language.\n",
    "    \"\"\"\n",
    "    # Initialize the recognizer\n",
    "    recognizer = sr.Recognizer()\n",
    "    \n",
    "    try:\n",
    "        # Load and recognize the audio file\n",
    "        with sr.AudioFile(audio_file) as source:\n",
    "            print(\"Listening to the audio file...\")\n",
    "            audio_data = recognizer.record(source)\n",
    "            # Convert speech to text\n",
    "            transcribed_text = recognizer.recognize_google(audio_data)\n",
    "            print(f\"Transcribed Text: {transcribed_text}\")\n",
    "            \n",
    "            # Detect the language\n",
    "            detected_language = detect(transcribed_text)\n",
    "            print(f\"Detected Language: {detected_language}\")\n",
    "            \n",
    "            return {\n",
    "                \"Transcribed Text\": transcribed_text,\n",
    "                \"Detected Language\": detected_language\n",
    "            }\n",
    "    \n",
    "    except sr.UnknownValueError:\n",
    "        return {\"Error\": \"Speech recognition could not understand the audio.\"}\n",
    "    except sr.RequestError as e:\n",
    "        return {\"Error\": f\"Could not request results from the speech recognition service; {e}\"}\n",
    "\n",
    "# Example usage\n",
    "if __name__ == \"__main__\":\n",
    "    audio_path = \"path_to_your_audio_file.wav\"  # Replace with your audio file path\n",
    "    result = detect_language_from_audio(audio_path)\n",
    "    print(result)\n"
   ]
  },
  {
   "cell_type": "code",
   "execution_count": 3,
   "id": "71cdda93-d475-411e-a9eb-2e53208c02f2",
   "metadata": {},
   "outputs": [
    {
     "name": "stdout",
     "output_type": "stream",
     "text": [
      "Collecting langdetect\n",
      "  Using cached langdetect-1.0.9-py3-none-any.whl\n",
      "Requirement already satisfied: six in c:\\users\\purnima\\appdata\\roaming\\python\\python312\\site-packages (from langdetect) (1.16.0)\n",
      "Installing collected packages: langdetect\n",
      "Successfully installed langdetect-1.0.9\n",
      "Note: you may need to restart the kernel to use updated packages.\n"
     ]
    }
   ],
   "source": [
    "pip install langdetect"
   ]
  },
  {
   "cell_type": "code",
   "execution_count": null,
   "id": "d1385db0-2eb0-48c2-a040-8cfecf3d8139",
   "metadata": {},
   "outputs": [],
   "source": []
  }
 ],
 "metadata": {
  "kernelspec": {
   "display_name": "Python 3 (ipykernel)",
   "language": "python",
   "name": "python3"
  },
  "language_info": {
   "codemirror_mode": {
    "name": "ipython",
    "version": 3
   },
   "file_extension": ".py",
   "mimetype": "text/x-python",
   "name": "python",
   "nbconvert_exporter": "python",
   "pygments_lexer": "ipython3",
   "version": "3.12.7"
  }
 },
 "nbformat": 4,
 "nbformat_minor": 5
}
