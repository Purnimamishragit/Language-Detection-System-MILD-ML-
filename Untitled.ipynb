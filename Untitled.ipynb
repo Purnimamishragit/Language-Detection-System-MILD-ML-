{
 "cells": [
  {
   "cell_type": "code",
   "execution_count": 1,
   "id": "3b756fbb-ad95-4c05-8dd0-1b6eeb518908",
   "metadata": {},
   "outputs": [
    {
     "name": "stdout",
     "output_type": "stream",
     "text": [
      "[3]\n"
     ]
    },
    {
     "data": {
      "text/plain": [
       "[3]"
      ]
     },
     "execution_count": 1,
     "metadata": {},
     "output_type": "execute_result"
    }
   ],
   "source": [
    ">>> import numpy as np\n",
    ">>> rng = np.random.RandomState(1)\n",
    ">>> X = rng.randint(5, size=(6, 100))\n",
    ">>> y = np.array([1, 2, 3, 4, 5, 6])\n",
    ">>> from sklearn.naive_bayes import MultinomialNB\n",
    ">>> clf = MultinomialNB()\n",
    ">>> clf.fit(X, y)\n",
    "MultinomialNB()\n",
    ">>> print(clf.predict(X[2:3]))"
   ]
  },
  {
   "cell_type": "code",
   "execution_count": null,
   "id": "c263c664-d59f-49c5-9825-e4878d5cd451",
   "metadata": {},
   "outputs": [],
   "source": []
  }
 ],
 "metadata": {
  "kernelspec": {
   "display_name": "Python 3 (ipykernel)",
   "language": "python",
   "name": "python3"
  },
  "language_info": {
   "codemirror_mode": {
    "name": "ipython",
    "version": 3
   },
   "file_extension": ".py",
   "mimetype": "text/x-python",
   "name": "python",
   "nbconvert_exporter": "python",
   "pygments_lexer": "ipython3",
   "version": "3.12.4"
  }
 },
 "nbformat": 4,
 "nbformat_minor": 5
}
