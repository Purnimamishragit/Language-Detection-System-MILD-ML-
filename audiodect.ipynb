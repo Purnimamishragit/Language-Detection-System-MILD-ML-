{
 "cells": [
  {
   "cell_type": "code",
   "execution_count": 4,
   "id": "cd7a0bf9-1f68-408d-ba52-420c37a1496a",
   "metadata": {},
   "outputs": [],
   "source": [
    "import numpy as np\n",
    "import pandas as pd\n",
    "from sklearn.feature_extraction.text import CountVectorizer\n",
    "from sklearn.model_selection import train_test_split\n",
    "from sklearn.naive_bayes import MultinomialNB\n",
    "import speech_recognition as sr\n",
    "from enum import Enum"
   ]
  },
  {
   "cell_type": "code",
   "execution_count": 5,
   "id": "88b3fecf-4a78-48c5-8324-86a9f9e2d28e",
   "metadata": {},
   "outputs": [
    {
     "data": {
      "text/html": [
       "<div>\n",
       "<style scoped>\n",
       "    .dataframe tbody tr th:only-of-type {\n",
       "        vertical-align: middle;\n",
       "    }\n",
       "\n",
       "    .dataframe tbody tr th {\n",
       "        vertical-align: top;\n",
       "    }\n",
       "\n",
       "    .dataframe thead th {\n",
       "        text-align: right;\n",
       "    }\n",
       "</style>\n",
       "<table border=\"1\" class=\"dataframe\">\n",
       "  <thead>\n",
       "    <tr style=\"text-align: right;\">\n",
       "      <th></th>\n",
       "      <th>Text</th>\n",
       "      <th>language</th>\n",
       "    </tr>\n",
       "  </thead>\n",
       "  <tbody>\n",
       "    <tr>\n",
       "      <th>0</th>\n",
       "      <td>klement gottwaldi surnukeha palsameeriti ning ...</td>\n",
       "      <td>Estonian</td>\n",
       "    </tr>\n",
       "    <tr>\n",
       "      <th>1</th>\n",
       "      <td>sebes joseph pereira thomas  på eng the jesuit...</td>\n",
       "      <td>Swedish</td>\n",
       "    </tr>\n",
       "    <tr>\n",
       "      <th>2</th>\n",
       "      <td>ถนนเจริญกรุง อักษรโรมัน thanon charoen krung เ...</td>\n",
       "      <td>Thai</td>\n",
       "    </tr>\n",
       "    <tr>\n",
       "      <th>3</th>\n",
       "      <td>விசாகப்பட்டினம் தமிழ்ச்சங்கத்தை இந்துப் பத்திர...</td>\n",
       "      <td>Tamil</td>\n",
       "    </tr>\n",
       "    <tr>\n",
       "      <th>4</th>\n",
       "      <td>de spons behoort tot het geslacht haliclona en...</td>\n",
       "      <td>Dutch</td>\n",
       "    </tr>\n",
       "    <tr>\n",
       "      <th>...</th>\n",
       "      <td>...</td>\n",
       "      <td>...</td>\n",
       "    </tr>\n",
       "    <tr>\n",
       "      <th>21995</th>\n",
       "      <td>hors du terrain les années  et  sont des année...</td>\n",
       "      <td>French</td>\n",
       "    </tr>\n",
       "    <tr>\n",
       "      <th>21996</th>\n",
       "      <td>ใน พศ  หลักจากที่เสด็จประพาสแหลมมลายู ชวา อินเ...</td>\n",
       "      <td>Thai</td>\n",
       "    </tr>\n",
       "    <tr>\n",
       "      <th>21997</th>\n",
       "      <td>con motivo de la celebración del septuagésimoq...</td>\n",
       "      <td>Spanish</td>\n",
       "    </tr>\n",
       "    <tr>\n",
       "      <th>21998</th>\n",
       "      <td>年月，當時還只有歲的她在美國出道，以mai-k名義推出首張英文《baby i like》，由...</td>\n",
       "      <td>Chinese</td>\n",
       "    </tr>\n",
       "    <tr>\n",
       "      <th>21999</th>\n",
       "      <td>aprilie sonda spațială messenger a nasa și-a ...</td>\n",
       "      <td>Romanian</td>\n",
       "    </tr>\n",
       "  </tbody>\n",
       "</table>\n",
       "<p>22000 rows × 2 columns</p>\n",
       "</div>"
      ],
      "text/plain": [
       "                                                    Text  language\n",
       "0      klement gottwaldi surnukeha palsameeriti ning ...  Estonian\n",
       "1      sebes joseph pereira thomas  på eng the jesuit...   Swedish\n",
       "2      ถนนเจริญกรุง อักษรโรมัน thanon charoen krung เ...      Thai\n",
       "3      விசாகப்பட்டினம் தமிழ்ச்சங்கத்தை இந்துப் பத்திர...     Tamil\n",
       "4      de spons behoort tot het geslacht haliclona en...     Dutch\n",
       "...                                                  ...       ...\n",
       "21995  hors du terrain les années  et  sont des année...    French\n",
       "21996  ใน พศ  หลักจากที่เสด็จประพาสแหลมมลายู ชวา อินเ...      Thai\n",
       "21997  con motivo de la celebración del septuagésimoq...   Spanish\n",
       "21998  年月，當時還只有歲的她在美國出道，以mai-k名義推出首張英文《baby i like》，由...   Chinese\n",
       "21999   aprilie sonda spațială messenger a nasa și-a ...  Romanian\n",
       "\n",
       "[22000 rows x 2 columns]"
      ]
     },
     "execution_count": 5,
     "metadata": {},
     "output_type": "execute_result"
    }
   ],
   "source": [
    "data = pd.read_csv(\"language.csv\")\n",
    "data"
   ]
  },
  {
   "cell_type": "code",
   "execution_count": 6,
   "id": "0cbb498a-2a16-4b61-9e74-a88495afb83d",
   "metadata": {},
   "outputs": [
    {
     "name": "stdout",
     "output_type": "stream",
     "text": [
      "                                                Text  language\n",
      "0  klement gottwaldi surnukeha palsameeriti ning ...  Estonian\n",
      "1  sebes joseph pereira thomas  på eng the jesuit...   Swedish\n",
      "2  ถนนเจริญกรุง อักษรโรมัน thanon charoen krung เ...      Thai\n",
      "3  விசாகப்பட்டினம் தமிழ்ச்சங்கத்தை இந்துப் பத்திர...     Tamil\n",
      "4  de spons behoort tot het geslacht haliclona en...     Dutch\n",
      "Text        0\n",
      "language    0\n",
      "dtype: int64\n",
      "language\n",
      "Estonian      1000\n",
      "Swedish       1000\n",
      "English       1000\n",
      "Russian       1000\n",
      "Romanian      1000\n",
      "Persian       1000\n",
      "Pushto        1000\n",
      "Spanish       1000\n",
      "Hindi         1000\n",
      "Korean        1000\n",
      "Chinese       1000\n",
      "French        1000\n",
      "Portugese     1000\n",
      "Indonesian    1000\n",
      "Urdu          1000\n",
      "Latin         1000\n",
      "Turkish       1000\n",
      "Japanese      1000\n",
      "Dutch         1000\n",
      "Tamil         1000\n",
      "Thai          1000\n",
      "Arabic        1000\n",
      "Name: count, dtype: int64\n",
      "Text        object\n",
      "language    object\n",
      "dtype: object\n"
     ]
    }
   ],
   "source": [
    "print(data.head())\n",
    "print(data.isnull().sum())\n",
    "print(data['language'].value_counts())\n",
    "print(data.dtypes)\n"
   ]
  },
  {
   "cell_type": "code",
   "execution_count": 7,
   "id": "b55e3aa3-b707-44bf-b045-3c30057ffeb4",
   "metadata": {},
   "outputs": [],
   "source": [
    "x = np.array(data['Text'])\n",
    "y = np.array(data['language'])"
   ]
  },
  {
   "cell_type": "code",
   "execution_count": 8,
   "id": "f423ef9e-460c-41c5-b51d-532822681ac7",
   "metadata": {},
   "outputs": [
    {
     "name": "stdout",
     "output_type": "stream",
     "text": [
      "Features (Text): ['klement gottwaldi surnukeha palsameeriti ning paigutati mausoleumi surnukeha oli aga liiga hilja ja oskamatult palsameeritud ning hakkas ilmutama lagunemise tundemärke  aastal viidi ta surnukeha mausoleumist ära ja kremeeriti zlíni linn kandis aastatel – nime gottwaldov ukrainas harkivi oblastis kandis zmiivi linn aastatel – nime gotvald'\n",
      " 'sebes joseph pereira thomas  på eng the jesuits and the sino-russian treaty of nerchinsk  the diary of thomas pereira bibliotheca instituti historici s i --   rome libris '\n",
      " 'ถนนเจริญกรุง อักษรโรมัน thanon charoen krung เริ่มตั้งแต่ถนนสนามไชยถึงแม่น้ำเจ้าพระยาที่ถนนตก กรุงเทพมหานคร เป็นถนนรุ่นแรกที่ใช้เทคนิคการสร้างแบบตะวันตก ปัจจุบันผ่านพื้นที่เขตพระนคร เขตป้อมปราบศัตรูพ่าย เขตสัมพันธวงศ์ เขตบางรัก เขตสาทร และเขตบางคอแหลม'\n",
      " ...\n",
      " 'con motivo de la celebración del septuagésimoquinto ° aniversario de la fundación del departamento en  guillermo ceballos espinosa presentó a la gobernación de caldas por encargo de su titular dilia estrada de gómez el himno que fue adoptado para solemnizar dicha efemérides y que siguieron interpretando las bandas de música y los planteles de educación de esta sección del país en retretas y actos oficiales con gran aceptación[]\\u200b'\n",
      " '年月，當時還只有歲的她在美國出道，以mai-k名義推出首張英文《baby i like》，由美國的獨立廠牌bip·record發行，以外國輸入盤的形式在日本發售，旋即被抢购一空。其後於月日發行以倉木麻衣名義發行的首張日文單曲《love day after tomorrow》，正式於日本出道。這張單曲初動銷量只得約萬張，可是其後每週銷量一直上升，並於年月正式突破百萬銷量，合计万张。成為年最耀眼的新人歌手。'\n",
      " ' aprilie sonda spațială messenger a nasa și-a încheiat misiunea de studiu de  ani prăbușindu-se pe suprafața planetei mercur sonda a rămas fără combustibil fiind împinsă de gravitația solară din ce în ce mai aproape de mercur']\n",
      "Labels (Language): ['Estonian' 'Swedish' 'Thai' ... 'Spanish' 'Chinese' 'Romanian']\n"
     ]
    }
   ],
   "source": [
    "print(\"Features (Text):\", x)\n",
    "print(\"Labels (Language):\", y)"
   ]
  },
  {
   "cell_type": "code",
   "execution_count": 9,
   "id": "176d6b37-c5b3-4e9b-883c-9f7b3754d8e4",
   "metadata": {},
   "outputs": [],
   "source": [
    "cv = CountVectorizer()\n",
    "X = cv.fit_transform(x)"
   ]
  },
  {
   "cell_type": "code",
   "execution_count": 10,
   "id": "2c3da609-00ff-4aa8-9d26-110672e77960",
   "metadata": {},
   "outputs": [],
   "source": [
    "X_train, X_test, y_train, y_test = train_test_split(X, y, test_size=0.33, random_state=42)\n"
   ]
  },
  {
   "cell_type": "code",
   "execution_count": 11,
   "id": "cc2702d6-0cf3-47d0-aa65-c3569b4b7951",
   "metadata": {},
   "outputs": [
    {
     "name": "stdout",
     "output_type": "stream",
     "text": [
      "Training Data (Vectorized):   (0, 197295)\t2\n",
      "  (0, 197708)\t1\n",
      "  (0, 197801)\t1\n",
      "  (0, 198388)\t1\n",
      "  (0, 197467)\t1\n",
      "  (0, 197865)\t2\n",
      "  (0, 197604)\t1\n",
      "  (0, 198428)\t1\n",
      "  (0, 198501)\t1\n",
      "  (0, 198556)\t1\n",
      "  (0, 197332)\t1\n",
      "  (0, 197485)\t2\n",
      "  (0, 198123)\t1\n",
      "  (0, 197892)\t1\n",
      "  (0, 197990)\t1\n",
      "  (0, 198053)\t1\n",
      "  (0, 198417)\t1\n",
      "  (0, 197623)\t1\n",
      "  (1, 197641)\t2\n",
      "  (1, 197314)\t1\n",
      "  (1, 197931)\t1\n",
      "  (1, 197804)\t3\n",
      "  (1, 198397)\t1\n",
      "  (1, 197149)\t1\n",
      "  (1, 197781)\t1\n",
      "  :\t:\n",
      "  (14738, 188817)\t1\n",
      "  (14738, 192004)\t1\n",
      "  (14738, 157171)\t1\n",
      "  (14738, 190346)\t1\n",
      "  (14738, 190725)\t1\n",
      "  (14738, 189685)\t1\n",
      "  (14738, 159269)\t2\n",
      "  (14738, 145431)\t1\n",
      "  (14738, 173292)\t1\n",
      "  (14738, 176062)\t1\n",
      "  (14738, 159959)\t1\n",
      "  (14738, 190198)\t1\n",
      "  (14738, 167124)\t1\n",
      "  (14738, 168158)\t1\n",
      "  (14738, 180260)\t2\n",
      "  (14738, 153262)\t1\n",
      "  (14738, 162150)\t1\n",
      "  (14738, 153355)\t1\n",
      "  (14738, 178104)\t1\n",
      "  (14738, 163770)\t1\n",
      "  (14739, 223002)\t1\n",
      "  (14739, 235170)\t1\n",
      "  (14739, 222446)\t1\n",
      "  (14739, 221922)\t1\n",
      "  (14739, 242446)\t1\n"
     ]
    }
   ],
   "source": [
    "print(\"Training Data (Vectorized):\", X_train)"
   ]
  },
  {
   "cell_type": "code",
   "execution_count": 12,
   "id": "3ee5e742-d3fd-40d9-b3f6-474527c7a1ea",
   "metadata": {},
   "outputs": [
    {
     "data": {
      "text/html": [
       "<style>#sk-container-id-1 {color: black;}#sk-container-id-1 pre{padding: 0;}#sk-container-id-1 div.sk-toggleable {background-color: white;}#sk-container-id-1 label.sk-toggleable__label {cursor: pointer;display: block;width: 100%;margin-bottom: 0;padding: 0.3em;box-sizing: border-box;text-align: center;}#sk-container-id-1 label.sk-toggleable__label-arrow:before {content: \"▸\";float: left;margin-right: 0.25em;color: #696969;}#sk-container-id-1 label.sk-toggleable__label-arrow:hover:before {color: black;}#sk-container-id-1 div.sk-estimator:hover label.sk-toggleable__label-arrow:before {color: black;}#sk-container-id-1 div.sk-toggleable__content {max-height: 0;max-width: 0;overflow: hidden;text-align: left;background-color: #f0f8ff;}#sk-container-id-1 div.sk-toggleable__content pre {margin: 0.2em;color: black;border-radius: 0.25em;background-color: #f0f8ff;}#sk-container-id-1 input.sk-toggleable__control:checked~div.sk-toggleable__content {max-height: 200px;max-width: 100%;overflow: auto;}#sk-container-id-1 input.sk-toggleable__control:checked~label.sk-toggleable__label-arrow:before {content: \"▾\";}#sk-container-id-1 div.sk-estimator input.sk-toggleable__control:checked~label.sk-toggleable__label {background-color: #d4ebff;}#sk-container-id-1 div.sk-label input.sk-toggleable__control:checked~label.sk-toggleable__label {background-color: #d4ebff;}#sk-container-id-1 input.sk-hidden--visually {border: 0;clip: rect(1px 1px 1px 1px);clip: rect(1px, 1px, 1px, 1px);height: 1px;margin: -1px;overflow: hidden;padding: 0;position: absolute;width: 1px;}#sk-container-id-1 div.sk-estimator {font-family: monospace;background-color: #f0f8ff;border: 1px dotted black;border-radius: 0.25em;box-sizing: border-box;margin-bottom: 0.5em;}#sk-container-id-1 div.sk-estimator:hover {background-color: #d4ebff;}#sk-container-id-1 div.sk-parallel-item::after {content: \"\";width: 100%;border-bottom: 1px solid gray;flex-grow: 1;}#sk-container-id-1 div.sk-label:hover label.sk-toggleable__label {background-color: #d4ebff;}#sk-container-id-1 div.sk-serial::before {content: \"\";position: absolute;border-left: 1px solid gray;box-sizing: border-box;top: 0;bottom: 0;left: 50%;z-index: 0;}#sk-container-id-1 div.sk-serial {display: flex;flex-direction: column;align-items: center;background-color: white;padding-right: 0.2em;padding-left: 0.2em;position: relative;}#sk-container-id-1 div.sk-item {position: relative;z-index: 1;}#sk-container-id-1 div.sk-parallel {display: flex;align-items: stretch;justify-content: center;background-color: white;position: relative;}#sk-container-id-1 div.sk-item::before, #sk-container-id-1 div.sk-parallel-item::before {content: \"\";position: absolute;border-left: 1px solid gray;box-sizing: border-box;top: 0;bottom: 0;left: 50%;z-index: -1;}#sk-container-id-1 div.sk-parallel-item {display: flex;flex-direction: column;z-index: 1;position: relative;background-color: white;}#sk-container-id-1 div.sk-parallel-item:first-child::after {align-self: flex-end;width: 50%;}#sk-container-id-1 div.sk-parallel-item:last-child::after {align-self: flex-start;width: 50%;}#sk-container-id-1 div.sk-parallel-item:only-child::after {width: 0;}#sk-container-id-1 div.sk-dashed-wrapped {border: 1px dashed gray;margin: 0 0.4em 0.5em 0.4em;box-sizing: border-box;padding-bottom: 0.4em;background-color: white;}#sk-container-id-1 div.sk-label label {font-family: monospace;font-weight: bold;display: inline-block;line-height: 1.2em;}#sk-container-id-1 div.sk-label-container {text-align: center;}#sk-container-id-1 div.sk-container {/* jupyter's `normalize.less` sets `[hidden] { display: none; }` but bootstrap.min.css set `[hidden] { display: none !important; }` so we also need the `!important` here to be able to override the default hidden behavior on the sphinx rendered scikit-learn.org. See: https://github.com/scikit-learn/scikit-learn/issues/21755 */display: inline-block !important;position: relative;}#sk-container-id-1 div.sk-text-repr-fallback {display: none;}</style><div id=\"sk-container-id-1\" class=\"sk-top-container\"><div class=\"sk-text-repr-fallback\"><pre>MultinomialNB()</pre><b>In a Jupyter environment, please rerun this cell to show the HTML representation or trust the notebook. <br />On GitHub, the HTML representation is unable to render, please try loading this page with nbviewer.org.</b></div><div class=\"sk-container\" hidden><div class=\"sk-item\"><div class=\"sk-estimator sk-toggleable\"><input class=\"sk-toggleable__control sk-hidden--visually\" id=\"sk-estimator-id-1\" type=\"checkbox\" checked><label for=\"sk-estimator-id-1\" class=\"sk-toggleable__label sk-toggleable__label-arrow\">MultinomialNB</label><div class=\"sk-toggleable__content\"><pre>MultinomialNB()</pre></div></div></div></div></div>"
      ],
      "text/plain": [
       "MultinomialNB()"
      ]
     },
     "execution_count": 12,
     "metadata": {},
     "output_type": "execute_result"
    }
   ],
   "source": [
    "model = MultinomialNB()\n",
    "model.fit(X_train, y_train)"
   ]
  },
  {
   "cell_type": "code",
   "execution_count": 13,
   "id": "788e58ff-5beb-457c-ac4b-88e2f5dc22d3",
   "metadata": {},
   "outputs": [
    {
     "name": "stdout",
     "output_type": "stream",
     "text": [
      "Model Accuracy: 0.95\n"
     ]
    }
   ],
   "source": [
    "accuracy = model.score(X_test, y_test)\n",
    "print(f\"Model Accuracy: {accuracy:.2f}\")"
   ]
  },
  {
   "cell_type": "code",
   "execution_count": 14,
   "id": "d920c500-68d5-4bf2-8968-ffcc26d019a1",
   "metadata": {},
   "outputs": [],
   "source": [
    "class Language(Enum):\n",
    "    ENGLISH = 'en-US'\n",
    "    FRENCH = 'fr-FR'\n",
    "    GERMAN = 'de-DE'\n",
    "    ITALIAN = 'it-IT'\n",
    "    SPANISH = 'es-ES'\n",
    "    PORTUGUESE = 'pt-BR'\n",
    "    KOREAN = \"ko-KR\"\n",
    "    CHINESE_SIMPLIFIED = \"zh-CN\"\n",
    "    CHINESE_TRADITIONAL = \"zh-TW\"\n",
    "    JAPANESE = \"ja-JP\"\n",
    "    RUSSIAN = \"ru-RU\"\n",
    "    POLISH = \"pl-PL\"\n",
    "    UKRAINIAN = \"uk-UA\"\n",
    "    BULGARIAN = \"bg-BG\"\n",
    "    BENGALI = \"bn-BD\"\n",
    "    TURKISH = \"tr-TR\"\n",
    "    ARABIC = \"ar-SA\"\n",
    "    INDONESIAN = \"id-ID\"\n",
    "    THAI = \"th-TH\"\n",
    "    VIETNAMESE = \"vi-VN\"\n",
    "    MALAY = \"ms-MY\"\n",
    "    HINDI = \"hi-IN\"\n",
    "    PUNJABI = \"pa-IN\"\n",
    "    TELUGU = \"te-IN\"\n",
    "    GUJARATI = \"gu-IN\"\n",
    "    ORIYA = \"or-IN\"\n",
    "    MARATHI = \"mr-IN\"\n",
    "    SINDHI = \"sd-IN\"\n",
    "    TAMIL = \"ta-IN\"\n",
    "    KANNADA = \"kn-IN\"\n",
    "    MALAYALAM = \"ml-IN\"\n",
    "    ASSAMESE = \"as-IN\"\n",
    "    ODIA = \"or-IN\"\n",
    "    SANSKRIT = \"sa-IN\"\n"
   ]
  },
  {
   "cell_type": "code",
   "execution_count": 15,
   "id": "b70927de-78cc-4eae-9574-feaffd3dc7b1",
   "metadata": {},
   "outputs": [],
   "source": [
    "class SpeechToText:\n",
    "    @staticmethod\n",
    "    def speech_to_text(device_index=1, language=Language.ENGLISH):\n",
    "        r = sr.Recognizer()\n",
    "        with sr.Microphone(device_index=device_index) as source:\n",
    "            print(\"Recording...\")\n",
    "            audio = r.listen(source)\n",
    "            print(\"Recording Complete...\")\n",
    "\n",
    "            try:\n",
    "                # Transcribe audio to text\n",
    "                text = r.recognize_google(audio, language=language.value)\n",
    "                print(f\"Transcribed Text ({language.name}):\", text)\n",
    "                return text\n",
    "            except sr.UnknownValueError:\n",
    "                print(\"Could not understand audio\")\n",
    "                return None\n",
    "            except sr.RequestError as e:\n",
    "                print(\"Request error from Google Speech Recognition service; {0}\".format(e))\n",
    "                return None"
   ]
  },
  {
   "cell_type": "code",
   "execution_count": 16,
   "id": "aaf595be-76ba-49f4-9599-11f6bc8f15fd",
   "metadata": {},
   "outputs": [],
   "source": [
    "def predict_language_from_audio(device_index=1, language=Language.ENGLISH):\n",
    "    transcribed_text = SpeechToText.speech_to_text(device_index, language)\n",
    "    \n",
    "    if transcribed_text:\n",
    "        data = cv.transform([transcribed_text]).toarray()\n",
    "        output = model.predict(data)\n",
    "        print(\"Predicted Language:\", output)\n"
   ]
  },
  {
   "cell_type": "code",
   "execution_count": 17,
   "id": "62ce8fb8-e82a-4777-ab50-d24c92b1cc4d",
   "metadata": {},
   "outputs": [
    {
     "name": "stdout",
     "output_type": "stream",
     "text": [
      "Recording...\n",
      "Recording Complete...\n",
      "Transcribed Text (ENGLISH): hello my name is purnima\n",
      "Predicted Language: ['English']\n"
     ]
    }
   ],
   "source": [
    "if __name__ == \"__main__\":\n",
    "    device_index = 1  # Set device index based on available microphones\n",
    "    language = Language.ENGLISH # Set language to English for recognition\n",
    "    predict_language_from_audio(device_index=device_index, language=language)"
   ]
  }
 ],
 "metadata": {
  "kernelspec": {
   "display_name": "Python 3 (ipykernel)",
   "language": "python",
   "name": "python3"
  },
  "language_info": {
   "codemirror_mode": {
    "name": "ipython",
    "version": 3
   },
   "file_extension": ".py",
   "mimetype": "text/x-python",
   "name": "python",
   "nbconvert_exporter": "python",
   "pygments_lexer": "ipython3",
   "version": "3.12.7"
  }
 },
 "nbformat": 4,
 "nbformat_minor": 5
}
